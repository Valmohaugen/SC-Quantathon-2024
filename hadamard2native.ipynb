{
 "cells": [
  {
   "cell_type": "code",
   "execution_count": 8,
   "id": "1e9d4f4b-5ce2-457c-ac8e-8cca7058e5e0",
   "metadata": {},
   "outputs": [
    {
     "ename": "ImportError",
     "evalue": "cannot import name 'FakeFez' from 'qiskit.providers.fake_provider' (/home/jovyan/.qbraid/environments/qiskit_9vrlwn/pyenv/lib/python3.11/site-packages/qiskit/providers/fake_provider/__init__.py)",
     "output_type": "error",
     "traceback": [
      "\u001b[0;31m---------------------------------------------------------------------------\u001b[0m",
      "\u001b[0;31mImportError\u001b[0m                               Traceback (most recent call last)",
      "Cell \u001b[0;32mIn[8], line 12\u001b[0m\n\u001b[1;32m     10\u001b[0m \u001b[38;5;28;01mfrom\u001b[39;00m \u001b[38;5;21;01mqiskit_ibm_runtime\u001b[39;00m \u001b[38;5;28;01mimport\u001b[39;00m QiskitRuntimeService\n\u001b[1;32m     11\u001b[0m \u001b[38;5;28;01mfrom\u001b[39;00m \u001b[38;5;21;01mqiskit\u001b[39;00m \u001b[38;5;28;01mimport\u001b[39;00m QuantumCircuit, transpile\n\u001b[0;32m---> 12\u001b[0m \u001b[38;5;28;01mfrom\u001b[39;00m \u001b[38;5;21;01mqiskit\u001b[39;00m\u001b[38;5;21;01m.\u001b[39;00m\u001b[38;5;21;01mproviders\u001b[39;00m\u001b[38;5;21;01m.\u001b[39;00m\u001b[38;5;21;01mfake_provider\u001b[39;00m \u001b[38;5;28;01mimport\u001b[39;00m FakeFez\n\u001b[1;32m     13\u001b[0m \u001b[38;5;28;01mfrom\u001b[39;00m \u001b[38;5;21;01mqiskit_ibm_runtime\u001b[39;00m \u001b[38;5;28;01mimport\u001b[39;00m SamplerV2 \u001b[38;5;28;01mas\u001b[39;00m Sampler\n\u001b[1;32m     14\u001b[0m \u001b[38;5;66;03m# To run on hardware, select the backend with the fewest number of jobs in the queue\u001b[39;00m\n",
      "\u001b[0;31mImportError\u001b[0m: cannot import name 'FakeFez' from 'qiskit.providers.fake_provider' (/home/jovyan/.qbraid/environments/qiskit_9vrlwn/pyenv/lib/python3.11/site-packages/qiskit/providers/fake_provider/__init__.py)"
     ]
    }
   ],
   "source": [
    "# Built-in modules\n",
    "import math\n",
    "\n",
    "# Imports from Qiskit\n",
    "from qiskit import QuantumCircuit, transpile\n",
    "from qiskit.circuit.library import GroverOperator, MCMT, ZGate\n",
    "from qiskit.visualization import plot_distribution\n",
    "\n",
    "# Imports from Qiskit Runtime\n",
    "from qiskit_ibm_runtime import QiskitRuntimeService\n",
    "from qiskit import QuantumCircuit, transpile\n",
    "from qiskit.providers.fake_provider import FakeFez\n",
    "from qiskit_ibm_runtime import SamplerV2 as Sampler\n",
    "# To run on hardware, select the backend with the fewest number of jobs in the queue\n",
    "from qiskit_ibm_provider import IBMProvider"
   ]
  },
  {
   "cell_type": "code",
   "execution_count": 13,
   "id": "20f949c0-2fc1-4a20-be5c-444d24c59f7e",
   "metadata": {},
   "outputs": [
    {
     "name": "stdout",
     "output_type": "stream",
     "text": [
      "\n",
      "Transpiled Circuit (to native gates):\n",
      "global phase: π/4\n",
      "   ┌─────────┐┌────┐┌─────────┐\n",
      "q: ┤ Rz(π/2) ├┤ √X ├┤ Rz(π/2) ├\n",
      "   └─────────┘└────┘└─────────┘\n"
     ]
    }
   ],
   "source": [
    "\n",
    "\n",
    "# Choose a backend\n",
    "basis_gates = ['cz', 'id', 'rz', 'sx', 'x']\n",
    "\n",
    "qc = QuantumCircuit(1)\n",
    "qc.h(0)\n",
    "# Transpile the circuit for the specified backend\n",
    "transpiled_circuit = transpile(qc, basis_gates=basis_gates)\n",
    "# Draw the transpiled circuit\n",
    "print(\"\\nHadTranspiled Circuit (to native gates):\")\n",
    "print(transpiled_circuit.draw())\n"
   ]
  },
  {
   "cell_type": "code",
   "execution_count": null,
   "id": "2ef9d8d8-497b-4c6e-9f88-11931fb5041f",
   "metadata": {},
   "outputs": [],
   "source": []
  }
 ],
 "metadata": {
  "kernelspec": {
   "display_name": "Python 3 [Qiskit 1.2.0]",
   "language": "python",
   "name": "python3_qiskit_9vrlwn"
  },
  "language_info": {
   "codemirror_mode": {
    "name": "ipython",
    "version": 3
   },
   "file_extension": ".py",
   "mimetype": "text/x-python",
   "name": "python",
   "nbconvert_exporter": "python",
   "pygments_lexer": "ipython3",
   "version": "3.11.9"
  }
 },
 "nbformat": 4,
 "nbformat_minor": 5
}
