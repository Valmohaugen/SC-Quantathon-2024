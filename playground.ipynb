{
 "cells": [
  {
   "cell_type": "code",
   "execution_count": 2658,
   "metadata": {},
   "outputs": [],
   "source": [
    "import numpy as np                        \n",
    "from qiskit import *                 \n",
    "from qiskit_aer import *             \n",
    "from qiskit.visualization import plot_histogram\n",
    "from qiskit_ibm_runtime import *\n",
    "from collections import defaultdict"
   ]
  },
  {
   "cell_type": "code",
   "execution_count": 2659,
   "metadata": {},
   "outputs": [],
   "source": [
    "#user_num = int(input(\"Enter the max for your QRNG range:\"))   # User input for max range \n",
    "#num_qubits = int(np.ceil(np.log2(user_num)))                  # Obtains number of qubits for the circuit\n",
    "num_qubits = 5"
   ]
  },
  {
   "cell_type": "code",
   "execution_count": 2660,
   "metadata": {},
   "outputs": [],
   "source": [
    "def number_generator_simulator(num_qubits):\n",
    "    circ = QuantumCircuit(num_qubits, num_qubits)                 # Creates circuit with number of qubits obtained\n",
    "    circ.h(range(num_qubits))                                     # Applies a hadamard gate to all qubits\n",
    "    circ.measure(range(num_qubits), range(num_qubits))            # Measures all qubits and assigns them to classical bits\n",
    "\n",
    "    simulator = AerSimulator()                                         # Lets us use the Aer Simulator \n",
    "    compiled_circuit = transpile(circ, simulator)                      # Compiled circuit using Aer \n",
    "    result = simulator.run(compiled_circuit, shots = 50).result()     # Result with the 10000 shots as to not run forever on IBM machines\n",
    "    counts = result.get_counts()                                       # Assigns counts with the result\n",
    "    \n",
    "    return counts"
   ]
  },
  {
   "cell_type": "code",
   "execution_count": 2661,
   "metadata": {},
   "outputs": [],
   "source": [
    "def obtain_ties(counts):\n",
    "    max_value = max(counts.values())\n",
    "    max_keys = [key for key, value in counts.items() if value == max_value]\n",
    "    max_dict = {key: counts[key] for key in max_keys}\n",
    "\n",
    "    return len(max_keys), max_keys, max_dict, max_value"
   ]
  },
  {
   "cell_type": "code",
   "execution_count": 2662,
   "metadata": {},
   "outputs": [],
   "source": [
    "def tie_breaker(ties):\n",
    "    while (ties > 1):\n",
    "\n",
    "        new_num_qubits = int(np.ceil(np.log2(ties)))\n",
    "        counts = number_generator_simulator(new_num_qubits)\n",
    "        ties, vals, max_dict, max_value = obtain_ties(counts)\n",
    "\n",
    "        if (ties == 1):\n",
    "            final_val = vals\n",
    "        elif (ties > 1):\n",
    "            final_val = tie_breaker(ties)\n",
    "\n",
    "\n",
    "\n",
    "\n",
    "    return counts"
   ]
  },
  {
   "cell_type": "code",
   "execution_count": 2663,
   "metadata": {},
   "outputs": [
    {
     "name": "stdout",
     "output_type": "stream",
     "text": [
      "Data: {'10010': 2, '01001': 1, '10011': 1, '01110': 2, '00101': 1, '10101': 2, '11010': 2, '00000': 1, '01101': 1, '10111': 1, '11100': 2, '01010': 1, '00111': 1, '10100': 3, '00010': 5, '11001': 1, '00110': 2, '11101': 2, '11111': 4, '11110': 1, '01111': 2, '00011': 4, '01100': 2, '10001': 1, '01000': 5}\n",
      "Number of qubit states with the max value: 2\n",
      "Qubit states with the max value: ['00010', '01000']\n",
      "Max value: 5\n",
      "Max qubit value dictionary: {'00010': 5, '01000': 5} \n",
      "\n"
     ]
    },
    {
     "ename": "ValueError",
     "evalue": "too many values to unpack (expected 3)",
     "output_type": "error",
     "traceback": [
      "\u001b[0;31m---------------------------------------------------------------------------\u001b[0m",
      "\u001b[0;31mValueError\u001b[0m                                Traceback (most recent call last)",
      "Cell \u001b[0;32mIn[2663], line 13\u001b[0m\n\u001b[1;32m     11\u001b[0m     \u001b[38;5;28mprint\u001b[39m(\u001b[38;5;124mf\u001b[39m\u001b[38;5;124m'\u001b[39m\u001b[38;5;124mFinal random qubit state:\u001b[39m\u001b[38;5;124m'\u001b[39m, vals)\n\u001b[1;32m     12\u001b[0m \u001b[38;5;28;01melif\u001b[39;00m (ties \u001b[38;5;241m>\u001b[39m \u001b[38;5;241m1\u001b[39m):\n\u001b[0;32m---> 13\u001b[0m     final_index \u001b[38;5;241m=\u001b[39m \u001b[43mtie_breaker\u001b[49m\u001b[43m(\u001b[49m\u001b[43mties\u001b[49m\u001b[43m)\u001b[49m\n\u001b[1;32m     14\u001b[0m     final_key \u001b[38;5;241m=\u001b[39m \u001b[38;5;28mlist\u001b[39m(max_dict\u001b[38;5;241m.\u001b[39mkeys())\n\u001b[1;32m     16\u001b[0m     final_val \u001b[38;5;241m=\u001b[39m final_key[final_index] \n",
      "Cell \u001b[0;32mIn[2662], line 6\u001b[0m, in \u001b[0;36mtie_breaker\u001b[0;34m(ties)\u001b[0m\n\u001b[1;32m      4\u001b[0m new_num_qubits \u001b[38;5;241m=\u001b[39m \u001b[38;5;28mint\u001b[39m(np\u001b[38;5;241m.\u001b[39mceil(np\u001b[38;5;241m.\u001b[39mlog2(ties)))\n\u001b[1;32m      5\u001b[0m counts \u001b[38;5;241m=\u001b[39m number_generator_simulator(new_num_qubits)\n\u001b[0;32m----> 6\u001b[0m ties, vals, max_dict \u001b[38;5;241m=\u001b[39m obtain_ties(counts)\n\u001b[1;32m      8\u001b[0m \u001b[38;5;28;01mif\u001b[39;00m (ties \u001b[38;5;241m==\u001b[39m \u001b[38;5;241m1\u001b[39m):\n\u001b[1;32m      9\u001b[0m     final_val \u001b[38;5;241m=\u001b[39m vals\n",
      "\u001b[0;31mValueError\u001b[0m: too many values to unpack (expected 3)"
     ]
    }
   ],
   "source": [
    "counts = number_generator_simulator(num_qubits)\n",
    "ties, vals, max_dict, max_value = obtain_ties(counts)\n",
    "\n",
    "print(f'Data:', counts)\n",
    "print(f'Number of qubit states with the max value:', ties)\n",
    "print(f'Qubit states with the max value:', vals)\n",
    "print(f'Max value:', max_value)\n",
    "print(f'Max qubit value dictionary:', max_dict, f'\\n')\n",
    "\n",
    "if (ties == 1):\n",
    "    print(f'Final random qubit state:', vals)\n",
    "elif (ties > 1):\n",
    "    final_index = tie_breaker(ties)\n",
    "    final_key = list(max_dict.keys())\n",
    "\n",
    "    final_val = final_key[final_index] \n",
    "\n",
    "    print(f'Final random qubit state:', str(final_val))"
   ]
  }
 ],
 "metadata": {
  "kernelspec": {
   "display_name": "qc",
   "language": "python",
   "name": "python3"
  },
  "language_info": {
   "codemirror_mode": {
    "name": "ipython",
    "version": 3
   },
   "file_extension": ".py",
   "mimetype": "text/x-python",
   "name": "python",
   "nbconvert_exporter": "python",
   "pygments_lexer": "ipython3",
   "version": "3.12.7"
  }
 },
 "nbformat": 4,
 "nbformat_minor": 2
}
