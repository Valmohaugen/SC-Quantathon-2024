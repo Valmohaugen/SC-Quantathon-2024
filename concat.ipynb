{
 "cells": [
  {
   "cell_type": "code",
   "execution_count": 1286,
   "metadata": {},
   "outputs": [],
   "source": [
    "import numpy as np                        \n",
    "from qiskit import *                 \n",
    "from qiskit_aer import *             \n",
    "from qiskit.visualization import plot_histogram\n",
    "from qiskit_ibm_runtime import *"
   ]
  },
  {
   "cell_type": "code",
   "execution_count": 1287,
   "metadata": {},
   "outputs": [],
   "source": [
    "#user_num = int(input(\"Enter the max for your QRNG range:\"))   # User input for max range \n",
    "#num_qubits = int(np.ceil(np.log2(user_num)))                  # Obtains number of qubits for the circuit\n",
    "num_qubits = 31\n",
    "division_size = 10"
   ]
  },
  {
   "cell_type": "code",
   "execution_count": 1288,
   "metadata": {},
   "outputs": [],
   "source": [
    "# Generates random number dict\n",
    "def number_generator_simulator(num_qubits):\n",
    "    circ = QuantumCircuit(num_qubits, num_qubits)                 # Creates circuit with number of qubits obtained\n",
    "    circ.h(range(num_qubits))                                     # Applies a hadamard gate to all qubits\n",
    "    circ.measure(range(num_qubits), range(num_qubits))            # Measures all qubits and assigns them to classical bits\n",
    "\n",
    "    simulator = AerSimulator()                                         # Lets us use the Aer Simulator \n",
    "    compiled_circuit = transpile(circ, simulator)                      # Compiled circuit using Aer \n",
    "    result = simulator.run(compiled_circuit, shots = 50).result()      # Result with the 10000 shots as to not run forever on IBM machines\n",
    "    counts = result.get_counts()                                       # Assigns counts with the result\n",
    "    \n",
    "    return counts"
   ]
  },
  {
   "cell_type": "code",
   "execution_count": 1289,
   "metadata": {},
   "outputs": [],
   "source": [
    "# For mod 2 method\n",
    "def obtain_rand(counts):\n",
    "    # Get all values\n",
    "    max_value = max(counts.values())\n",
    "    max_keys = [key for key, value in counts.items() if value == max_value]\n",
    "    max_dict = {key: counts[key] for key in max_keys}\n",
    "    # XOR all ties together to get new random\n",
    "    new_key = [int(i) for i in max_keys[0]]\n",
    "    for i in range(1, len(max_keys) - 1):\n",
    "        for j in range (0, num_qubits):\n",
    "            new_key[j] += int(max_keys[i][j])\n",
    "\n",
    "    super_new_key = ''\n",
    "    # Bitwise XOR (mod % 2) on each qubit\n",
    "    for i in range (0, num_qubits):\n",
    "        # super_new_key[i] = str(int(new_key[i]) % 2)\n",
    "        super_new_key += str(int(new_key[i]) % 2)\n",
    "\n",
    "    return super_new_key"
   ]
  },
  {
   "cell_type": "code",
   "execution_count": 1290,
   "metadata": {},
   "outputs": [],
   "source": [
    "# For iterative method\n",
    "def obtain_ties(counts):\n",
    "    max_value = max(counts.values())\n",
    "    max_keys = [key for key, value in counts.items() if value == max_value]\n",
    "    max_dict = {key: counts[key] for key in max_keys}\n",
    "\n",
    "    while (len(max_keys) > 1):\n",
    "        # print(max_keys)\n",
    "        max_keys = tie_breaker(max_keys)\n",
    "\n",
    "    return max_keys\n",
    "        \n",
    "\n",
    "def tie_breaker(ties):\n",
    "    new_num_qubits = int(np.ceil(np.log2(len(ties))))\n",
    "    counts = number_generator_simulator(new_num_qubits)\n",
    "    max_value = max(counts.values()) # Max among the ties\n",
    "    max_keys = [key for key, value in counts.items() if value == max_value] # Keys (indexes!) that tied\n",
    "    max_dict = {key: counts[key] for key in max_keys} # Dictionary of tied index->value's\n",
    "    # print(\"Max key: \", max_keys)\n",
    "    \n",
    "    # Need to use new ties (indexes of original ties) to index which ties make it\n",
    "    new_ties = []\n",
    "    for i in range (0, len(max_keys)):\n",
    "        new_ties.append(ties[int(max_keys[i],2)])\n",
    "    # new_ties = [indexKey for indexKey, value in max_dict if ]\n",
    "\n",
    "    return new_ties"
   ]
  },
  {
   "cell_type": "code",
   "execution_count": 1291,
   "metadata": {},
   "outputs": [],
   "source": [
    "# For concatenation method\n",
    "def concatenation(num_qubits, division_size):\n",
    "    extra = num_qubits % division_size\n",
    "    iterations = int((num_qubits - extra) / division_size)\n",
    "    final_output = []\n",
    "\n",
    "    for iteration in range(iterations):\n",
    "        division_chunk = None\n",
    "\n",
    "        while division_chunk is None:\n",
    "            counts = number_generator_simulator(division_size)\n",
    "            division_chunk = check_tie(counts)\n",
    "        final_output.append(division_chunk)\n",
    "\n",
    "    if extra != 0:\n",
    "        division_chunk = None\n",
    "\n",
    "        while division_chunk is None:\n",
    "            counts = number_generator_simulator(extra)\n",
    "            division_chunk = check_tie(counts)\n",
    "        final_output.append(division_chunk)\n",
    "\n",
    "    return ''.join(final_output)\n",
    "\n",
    "def check_tie(counts):\n",
    "    max_value = max(counts.values())\n",
    "    max_keys = [key for key, value in counts.items() if value == max_value]\n",
    "\n",
    "    if len(max_keys) > 1:\n",
    "        return None\n",
    "    else:\n",
    "        return max_keys[0]"
   ]
  },
  {
   "cell_type": "code",
   "execution_count": 1292,
   "metadata": {},
   "outputs": [
    {
     "name": "stdout",
     "output_type": "stream",
     "text": [
      "Final random qubit state: 1111101010100010111100010100110\n"
     ]
    }
   ],
   "source": [
    "# Using concatenation method\n",
    "final_val = concatenation(num_qubits, division_size)\n",
    "print(f'Final random qubit state:', final_val)"
   ]
  },
  {
   "cell_type": "code",
   "execution_count": 1293,
   "metadata": {
    "scrolled": true
   },
   "outputs": [
    {
     "ename": "CircuitTooWideForTarget",
     "evalue": "'Number of qubits (31) in circuit-2049 is greater than maximum (30) in the coupling_map'",
     "output_type": "error",
     "traceback": [
      "\u001b[0;31m---------------------------------------------------------------------------\u001b[0m",
      "\u001b[0;31mCircuitTooWideForTarget\u001b[0m                   Traceback (most recent call last)",
      "Cell \u001b[0;32mIn[1293], line 3\u001b[0m\n\u001b[1;32m      1\u001b[0m \u001b[38;5;66;03m# Using iterative method\u001b[39;00m\n\u001b[1;32m      2\u001b[0m \u001b[38;5;28;01mfor\u001b[39;00m i \u001b[38;5;129;01min\u001b[39;00m \u001b[38;5;28mrange\u001b[39m (\u001b[38;5;241m0\u001b[39m, \u001b[38;5;241m10\u001b[39m):\n\u001b[0;32m----> 3\u001b[0m     counts \u001b[38;5;241m=\u001b[39m \u001b[43mnumber_generator_simulator\u001b[49m\u001b[43m(\u001b[49m\u001b[43mnum_qubits\u001b[49m\u001b[43m)\u001b[49m\n\u001b[1;32m      4\u001b[0m     final_val \u001b[38;5;241m=\u001b[39m obtain_ties(counts)\n\u001b[1;32m      5\u001b[0m     \u001b[38;5;28mprint\u001b[39m(\u001b[38;5;124mf\u001b[39m\u001b[38;5;124m'\u001b[39m\u001b[38;5;124mFinal random qubit state:\u001b[39m\u001b[38;5;124m'\u001b[39m, final_val)\n",
      "Cell \u001b[0;32mIn[1288], line 8\u001b[0m, in \u001b[0;36mnumber_generator_simulator\u001b[0;34m(num_qubits)\u001b[0m\n\u001b[1;32m      5\u001b[0m circ\u001b[38;5;241m.\u001b[39mmeasure(\u001b[38;5;28mrange\u001b[39m(num_qubits), \u001b[38;5;28mrange\u001b[39m(num_qubits))            \u001b[38;5;66;03m# Measures all qubits and assigns them to classical bits\u001b[39;00m\n\u001b[1;32m      7\u001b[0m simulator \u001b[38;5;241m=\u001b[39m AerSimulator()                                         \u001b[38;5;66;03m# Lets us use the Aer Simulator \u001b[39;00m\n\u001b[0;32m----> 8\u001b[0m compiled_circuit \u001b[38;5;241m=\u001b[39m \u001b[43mtranspile\u001b[49m\u001b[43m(\u001b[49m\u001b[43mcirc\u001b[49m\u001b[43m,\u001b[49m\u001b[43m \u001b[49m\u001b[43msimulator\u001b[49m\u001b[43m)\u001b[49m                      \u001b[38;5;66;03m# Compiled circuit using Aer \u001b[39;00m\n\u001b[1;32m      9\u001b[0m result \u001b[38;5;241m=\u001b[39m simulator\u001b[38;5;241m.\u001b[39mrun(compiled_circuit, shots \u001b[38;5;241m=\u001b[39m \u001b[38;5;241m50\u001b[39m)\u001b[38;5;241m.\u001b[39mresult()      \u001b[38;5;66;03m# Result with the 10000 shots as to not run forever on IBM machines\u001b[39;00m\n\u001b[1;32m     10\u001b[0m counts \u001b[38;5;241m=\u001b[39m result\u001b[38;5;241m.\u001b[39mget_counts()                                       \u001b[38;5;66;03m# Assigns counts with the result\u001b[39;00m\n",
      "File \u001b[0;32m/opt/anaconda3/envs/qc/lib/python3.12/site-packages/qiskit/compiler/transpiler.py:361\u001b[0m, in \u001b[0;36mtranspile\u001b[0;34m(circuits, backend, basis_gates, inst_map, coupling_map, backend_properties, initial_layout, layout_method, routing_method, translation_method, scheduling_method, instruction_durations, dt, approximation_degree, timing_constraints, seed_transpiler, optimization_level, callback, output_name, unitary_synthesis_method, unitary_synthesis_plugin_config, target, hls_config, init_method, optimization_method, ignore_backend_supplied_default_methods, num_processes)\u001b[0m\n\u001b[1;32m    359\u001b[0m output_name \u001b[38;5;241m=\u001b[39m _parse_output_name(output_name, circuits)\n\u001b[1;32m    360\u001b[0m coupling_map \u001b[38;5;241m=\u001b[39m _parse_coupling_map(coupling_map)\n\u001b[0;32m--> 361\u001b[0m \u001b[43m_check_circuits_coupling_map\u001b[49m\u001b[43m(\u001b[49m\u001b[43mcircuits\u001b[49m\u001b[43m,\u001b[49m\u001b[43m \u001b[49m\u001b[43mcoupling_map\u001b[49m\u001b[43m,\u001b[49m\u001b[43m \u001b[49m\u001b[43mbackend\u001b[49m\u001b[43m)\u001b[49m\n\u001b[1;32m    363\u001b[0m \u001b[38;5;66;03m# Edge cases require using the old model (loose constraints) instead of building a target,\u001b[39;00m\n\u001b[1;32m    364\u001b[0m \u001b[38;5;66;03m# but we don't populate the passmanager config with loose constraints unless it's one of\u001b[39;00m\n\u001b[1;32m    365\u001b[0m \u001b[38;5;66;03m# the known edge cases to control the execution path.\u001b[39;00m\n\u001b[1;32m    366\u001b[0m pm \u001b[38;5;241m=\u001b[39m generate_preset_pass_manager(\n\u001b[1;32m    367\u001b[0m     optimization_level,\n\u001b[1;32m    368\u001b[0m     target\u001b[38;5;241m=\u001b[39mtarget,\n\u001b[0;32m   (...)\u001b[0m\n\u001b[1;32m    388\u001b[0m     dt\u001b[38;5;241m=\u001b[39mdt,\n\u001b[1;32m    389\u001b[0m )\n",
      "File \u001b[0;32m/opt/anaconda3/envs/qc/lib/python3.12/site-packages/qiskit/compiler/transpiler.py:415\u001b[0m, in \u001b[0;36m_check_circuits_coupling_map\u001b[0;34m(circuits, cmap, backend)\u001b[0m\n\u001b[1;32m    413\u001b[0m num_qubits \u001b[38;5;241m=\u001b[39m \u001b[38;5;28mlen\u001b[39m(circuit\u001b[38;5;241m.\u001b[39mqubits)\n\u001b[1;32m    414\u001b[0m \u001b[38;5;28;01mif\u001b[39;00m max_qubits \u001b[38;5;129;01mis\u001b[39;00m \u001b[38;5;129;01mnot\u001b[39;00m \u001b[38;5;28;01mNone\u001b[39;00m \u001b[38;5;129;01mand\u001b[39;00m (num_qubits \u001b[38;5;241m>\u001b[39m max_qubits):\n\u001b[0;32m--> 415\u001b[0m     \u001b[38;5;28;01mraise\u001b[39;00m CircuitTooWideForTarget(\n\u001b[1;32m    416\u001b[0m         \u001b[38;5;124mf\u001b[39m\u001b[38;5;124m\"\u001b[39m\u001b[38;5;124mNumber of qubits (\u001b[39m\u001b[38;5;132;01m{\u001b[39;00mnum_qubits\u001b[38;5;132;01m}\u001b[39;00m\u001b[38;5;124m) in \u001b[39m\u001b[38;5;132;01m{\u001b[39;00mcircuit\u001b[38;5;241m.\u001b[39mname\u001b[38;5;132;01m}\u001b[39;00m\u001b[38;5;124m \u001b[39m\u001b[38;5;124m\"\u001b[39m\n\u001b[1;32m    417\u001b[0m         \u001b[38;5;124mf\u001b[39m\u001b[38;5;124m\"\u001b[39m\u001b[38;5;124mis greater than maximum (\u001b[39m\u001b[38;5;132;01m{\u001b[39;00mmax_qubits\u001b[38;5;132;01m}\u001b[39;00m\u001b[38;5;124m) in the coupling_map\u001b[39m\u001b[38;5;124m\"\u001b[39m\n\u001b[1;32m    418\u001b[0m     )\n",
      "\u001b[0;31mCircuitTooWideForTarget\u001b[0m: 'Number of qubits (31) in circuit-2049 is greater than maximum (30) in the coupling_map'"
     ]
    }
   ],
   "source": [
    "# Using iterative method\n",
    "for i in range (0, 10):\n",
    "    counts = number_generator_simulator(num_qubits)\n",
    "    final_val = obtain_ties(counts)\n",
    "    print(f'Final random qubit state:', final_val)"
   ]
  },
  {
   "cell_type": "code",
   "execution_count": 167,
   "metadata": {},
   "outputs": [
    {
     "name": "stdout",
     "output_type": "stream",
     "text": [
      "Final random qubit state: 110101111111010011011101111010\n",
      "Final random qubit state: 100101111010001110011101010001\n",
      "Final random qubit state: 010101100101000000000110010110\n",
      "Final random qubit state: 011000100100010010111011111001\n",
      "Final random qubit state: 101001010000000110000110001110\n",
      "Final random qubit state: 101110010001010000010001011000\n",
      "Final random qubit state: 010000100111011001011111110101\n",
      "Final random qubit state: 111001101001010100010110100100\n",
      "Final random qubit state: 010111001100000110101110111101\n",
      "Final random qubit state: 110000011010101001011100111100\n",
      "Final random qubit state: 110110110000110100110111101100\n",
      "Final random qubit state: 011101110011101010011011101101\n",
      "Final random qubit state: 011111111111011000001011101011\n",
      "Final random qubit state: 011010001001101110100010111000\n",
      "Final random qubit state: 011001100001011110010100111011\n",
      "Final random qubit state: 000001100100001100010010100100\n",
      "Final random qubit state: 100011011001101000001110000001\n",
      "Final random qubit state: 001011001001111111010101101011\n",
      "Final random qubit state: 001011101101011110100111011101\n",
      "Final random qubit state: 100100110110010000000000011100\n",
      "Final random qubit state: 010101111011000000100001010001\n",
      "Final random qubit state: 111101100110010111001111000001\n",
      "Final random qubit state: 001101000110101101010100101111\n",
      "Final random qubit state: 000001010111001001100001001001\n",
      "Final random qubit state: 000010011100000010001000010001\n",
      "Final random qubit state: 111110001100000000001001101100\n",
      "Final random qubit state: 001001000010000110110000100111\n",
      "Final random qubit state: 000101110010001101100000101100\n",
      "Final random qubit state: 101110100011001110010011010101\n",
      "Final random qubit state: 101010111110111000000000101001\n",
      "Final random qubit state: 011100010000110110000000010001\n",
      "Final random qubit state: 001001010100000011011001111111\n",
      "Final random qubit state: 111011010100010110101000000110\n",
      "Final random qubit state: 100110111111110101100001010000\n",
      "Final random qubit state: 110101011001110011010100001111\n",
      "Final random qubit state: 011111011110001001010010110110\n",
      "Final random qubit state: 100110011011010010011110111110\n",
      "Final random qubit state: 110011110111110100010110001101\n",
      "Final random qubit state: 101000001110110000110111100011\n",
      "Final random qubit state: 100111100101111100001011101010\n",
      "Final random qubit state: 110110111111011100011000010100\n",
      "Final random qubit state: 111110110010111111110100110001\n",
      "Final random qubit state: 111110010111111100000111000110\n",
      "Final random qubit state: 111000111010000100000100110000\n",
      "Final random qubit state: 011000011110110011100010110101\n",
      "Final random qubit state: 011000111010010101101000001000\n",
      "Final random qubit state: 000100010000011010100110100000\n",
      "Final random qubit state: 010111010010010100100111110101\n",
      "Final random qubit state: 101110101011110011011001001001\n",
      "Final random qubit state: 101011110000110010100101100101\n",
      "Final random qubit state: 011100010001001001001100001101\n",
      "Final random qubit state: 010101111001100010100011101010\n",
      "Final random qubit state: 011111111001000000001001001100\n",
      "Final random qubit state: 001011001110001101110110110000\n",
      "Final random qubit state: 111001100111011000011011100010\n",
      "Final random qubit state: 100011110110110110010100111011\n",
      "Final random qubit state: 001110110010010011011110011000\n",
      "Final random qubit state: 101011011000100101101000000111\n",
      "Final random qubit state: 101010001011001010111011000000\n",
      "Final random qubit state: 101101101000010000101011000010\n",
      "Final random qubit state: 011001111010010111101010000000\n",
      "Final random qubit state: 111001101001101000010001111101\n",
      "Final random qubit state: 100000000101001011010000101110\n",
      "Final random qubit state: 011100101001011101011101001100\n",
      "Final random qubit state: 110000001001010101110000110010\n",
      "Final random qubit state: 111000001110011011110111001011\n",
      "Final random qubit state: 000110111100001010001000000010\n",
      "Final random qubit state: 011100011010110010011011000011\n",
      "Final random qubit state: 001011001100101110110111011001\n",
      "Final random qubit state: 101010010000011000001010000000\n",
      "Final random qubit state: 010010010101100001111101101100\n",
      "Final random qubit state: 100111100110111010010101001000\n",
      "Final random qubit state: 011101101000001010100111010001\n",
      "Final random qubit state: 001011011010001001010011010010\n",
      "Final random qubit state: 010010000110000111010110011110\n",
      "Final random qubit state: 010011110110101000000110110110\n",
      "Final random qubit state: 011111100110111011011100111101\n",
      "Final random qubit state: 101111010001111110010011000101\n",
      "Final random qubit state: 000100001111010000110000101010\n",
      "Final random qubit state: 001100011011101101100001111001\n",
      "Final random qubit state: 101000110100011010110110110000\n",
      "Final random qubit state: 101110010101100011001110101101\n",
      "Final random qubit state: 110110111100110101100110110010\n",
      "Final random qubit state: 011000001001010100011110001100\n",
      "Final random qubit state: 110000100001111101111100010011\n",
      "Final random qubit state: 010000100101010110100110101100\n",
      "Final random qubit state: 001000111101010011011000001100\n",
      "Final random qubit state: 001110001000011101101010010001\n",
      "Final random qubit state: 110001111011000010101111000110\n",
      "Final random qubit state: 101101011001110011101011001110\n",
      "Final random qubit state: 001100001111101101011110001110\n",
      "Final random qubit state: 100011010010001001010000001011\n",
      "Final random qubit state: 000111111010010111111101111000\n",
      "Final random qubit state: 001000010010110000101001100111\n",
      "Final random qubit state: 110101111100001011001010110010\n",
      "Final random qubit state: 000000100000001111010100100110\n",
      "Final random qubit state: 110011001000111111101100111000\n",
      "Final random qubit state: 011010110000001111001100011011\n",
      "Final random qubit state: 111001111101100100000000111100\n",
      "Final random qubit state: 001110001111011110010000101101\n"
     ]
    }
   ],
   "source": [
    "# Using mod 2 method\n",
    "for i in range (0, 100):\n",
    "    counts = number_generator_simulator(num_qubits)\n",
    "    rand_value = obtain_rand(counts)\n",
    "    # print(f'Data:', counts)\n",
    "    print(f'Final random qubit state:', rand_value)"
   ]
  }
 ],
 "metadata": {
  "kernelspec": {
   "display_name": "qc",
   "language": "python",
   "name": "python3"
  },
  "language_info": {
   "codemirror_mode": {
    "name": "ipython",
    "version": 3
   },
   "file_extension": ".py",
   "mimetype": "text/x-python",
   "name": "python",
   "nbconvert_exporter": "python",
   "pygments_lexer": "ipython3",
   "version": "3.12.7"
  }
 },
 "nbformat": 4,
 "nbformat_minor": 4
}
