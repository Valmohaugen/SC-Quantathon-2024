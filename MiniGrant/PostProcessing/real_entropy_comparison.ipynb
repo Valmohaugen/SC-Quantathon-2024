{
 "cells": [
  {
   "cell_type": "markdown",
   "metadata": {},
   "source": [
    "# Postprocessing Comparison on Real Datasets\n",
    "This file runs our postprocessing methods on real datasets and outputs the entropy, waste ratio, and throughput. The methods are defined in `postprocessing.py`."
   ]
  },
  {
   "cell_type": "code",
   "execution_count": 1,
   "metadata": {},
   "outputs": [],
   "source": [
    "import postprocessing as pp\n",
    "import numpy as np\n",
    "import time\n",
    "import math"
   ]
  },
  {
   "cell_type": "code",
   "execution_count": 2,
   "metadata": {},
   "outputs": [],
   "source": [
    "#Waste ratio is the portion of input data destroyed during processing\n",
    "def waste_ratio(old_data, new_data):\n",
    "    return 1 - len(new_data)/len(old_data)\n",
    "\n",
    "#Note: For methods that destroy input data, throughput is based on the amount of output data, not the amount of input\n",
    "def throughput(time, new_data):\n",
    "    return len(new_data) / time / 1e6 #Mb/s\n",
    "\n",
    "def read_file(filepath):\n",
    "    with open(filepath, \"r\", encoding=\"utf-8\") as f:\n",
    "        digits = []\n",
    "        for line in f:\n",
    "            line = line.strip()\n",
    "            if line and line[0].isdigit(): \n",
    "                digits += line\n",
    "        if len(digits) == 0:\n",
    "            print(f\"Invalid file: {filepath}\")\n",
    "        return np.array(digits, dtype=np.uint8)\n",
    "parity_blocksize = 4"
   ]
  },
  {
   "cell_type": "code",
   "execution_count": 3,
   "metadata": {},
   "outputs": [],
   "source": [
    "# Get datasets\n",
    "# dataset_tags stores names of dataset, combine with dictionary to minimize clutter\n",
    "# Each dataset tag represent the type of data\n",
    "dataset_tags = [\"BrisbaneM1\", \"BrisbaneM2\", \"SimulatorM3\", \"BrisbaneM4\"]\n",
    "datapaths = [\"../Data/Feb12_brisbane_method1_1000qubits_1024shots_30chunkSize_3mods.txt\", \n",
    "             \"../Data/Feb12_brisbane_method2_1000qubits_1024shots_30chunkSize_3mods.txt\", \n",
    "             \"../Data/Feb11_simulator_method3_1000qubits_1024shots_30chunkSize_3mods.txt\", \n",
    "            \"../Data/Feb12_brisbane_method4_1000qubits_1024shots_30chunkSize_3mods.txt\"]\n",
    "datasets = {}\n",
    "\n",
    "for i, tag in enumerate(dataset_tags):\n",
    "    datasets[tag] = read_file(datapaths[i])\n"
   ]
  },
  {
   "cell_type": "code",
   "execution_count": 4,
   "metadata": {},
   "outputs": [],
   "source": [
    "# Measure before entropy\n",
    "before_entropy = {}\n",
    "for tag in dataset_tags:\n",
    "    before_entropy[tag] = pp.shannon_entropy(datasets[tag].copy())"
   ]
  },
  {
   "cell_type": "code",
   "execution_count": 5,
   "metadata": {},
   "outputs": [],
   "source": [
    "# Apply transformations, and measure the throughput\n",
    "neumann_datasets = {}\n",
    "toeplitz_datasets = {}\n",
    "FFT_datasets = {}\n",
    "parity_datasets = {}\n",
    "# Use average across all datasets for throughput\n",
    "timed_throughput = [0, 0, 0, 0]\n",
    "waste_ratios = [0, 0, 0, 0]\n",
    "\n",
    "for tag in dataset_tags:\n",
    "    # Manually apply each method\n",
    "    t0 = time.time()\n",
    "    neumann_datasets[tag] = pp.apply_von_neumann_extractor(datasets[tag].copy())\n",
    "    t1 = time.time()\n",
    "    timed_throughput[0] += throughput(t1 - t0, neumann_datasets[tag].copy())\n",
    "    waste_ratios[0] += waste_ratio(datasets[tag].copy(), neumann_datasets[tag].copy())\n",
    "\n",
    "\n",
    "    t0 = time.time()\n",
    "    toeplitz_datasets[tag] = pp.apply_toeplitz_transformation(datasets[tag].copy())\n",
    "    t1 = time.time()\n",
    "    timed_throughput[1] += throughput(t1 - t0, toeplitz_datasets[tag].copy())\n",
    "    waste_ratios[1] += waste_ratio(datasets[tag].copy(), toeplitz_datasets[tag].copy())\n",
    "\n",
    "    t0 = time.time()\n",
    "    FFT_datasets[tag] = pp.apply_fft_toeplitz(datasets[tag].copy())\n",
    "    t1 = time.time()\n",
    "    timed_throughput[2] += throughput(t1 - t0, FFT_datasets[tag].copy())\n",
    "    waste_ratios[2] += waste_ratio(datasets[tag].copy(), FFT_datasets[tag].copy())\n",
    "\n",
    "    t0 = time.time()\n",
    "    parity_datasets[tag] = pp.apply_parity_extractor(datasets[tag].copy(), blocksize=parity_blocksize)\n",
    "    t1 = time.time()\n",
    "    timed_throughput[3] += throughput(t1 - t0, parity_datasets[tag].copy())\n",
    "    waste_ratios[3] += waste_ratio(datasets[tag].copy(), parity_datasets[tag].copy())\n",
    "\n",
    "for i in range(0,4):\n",
    "    timed_throughput[i] /= len(dataset_tags)\n",
    "    waste_ratios[i] /= len(dataset_tags)\n",
    "    \n",
    "\n",
    "\n",
    "\n"
   ]
  },
  {
   "cell_type": "code",
   "execution_count": 6,
   "metadata": {},
   "outputs": [],
   "source": [
    "# Measure entropy of each applied transform\n",
    "neumann_entropy = {}\n",
    "toeplitz_entropy = {}\n",
    "FFT_entropy = {}\n",
    "parity_entropy = {}\n",
    "\n",
    "for tag in dataset_tags:\n",
    "    neumann_entropy[tag] = pp.shannon_entropy(neumann_datasets[tag].copy())\n",
    "    toeplitz_entropy[tag] = pp.shannon_entropy(toeplitz_datasets[tag].copy())\n",
    "    FFT_entropy[tag] = pp.shannon_entropy(FFT_datasets[tag].copy())\n",
    "    parity_entropy[tag] = pp.shannon_entropy(parity_datasets[tag].copy())"
   ]
  },
  {
   "cell_type": "code",
   "execution_count": 7,
   "metadata": {},
   "outputs": [
    {
     "name": "stdout",
     "output_type": "stream",
     "text": [
      "Method\t\tBrisbaneM1\t\tBrisbaneM2\t\tSimulatorM3\t\tBrisbaneM4\t\t\tWasteRatio\t\t\tThroughput(Mb/s)\n",
      "Control\t\t3.7335970\t\t3.8495852\t\t3.1875478\t\t6.5413658\t\t\t0.0000000\t\t\tN/A\t\t\n",
      "\n",
      "Von Neumann\t2.2661332\t\t3.5079184\t\t2.1515075\t\t5.5098695\t\t\t0.7505772\t\t\t1.5911135\t\t\n",
      "\n",
      "Toeplitz\t3.1520847\t\t2.8422071\t\t4.2402857\t\t6.9431157\t\t\t0.0780000\t\t\t0.7973752\t\t\n",
      "\n",
      "FFT   \t\t2.2617324\t\t2.6483058\t\t0.0000000\t\t5.7697064\t\t\t0.0780000\t\t\t0.7210277\t\t\n",
      "\n",
      "Parity\t\t1.9824459\t\t2.5291986\t\t2.1766440\t\t7.0220301\t\t\t0.7500000\t\t\t11.5390867\t\t\n",
      "\n"
     ]
    }
   ],
   "source": [
    "# Display results\n",
    "def entropy_as_log(f):\n",
    "    if 1.0 - f < 1e-50:\n",
    "        return 0\n",
    "    else:\n",
    "        return -math.log10(1-f)\n",
    "    \n",
    "print(\"Method\\t\\t\", end=\"\")\n",
    "for tag in dataset_tags:\n",
    "    print(f\"{tag}\\t\\t\", end=\"\")\n",
    "print(\"\\tWasteRatio\\t\\t\\tThroughput(Mb/s)\")\n",
    "print(\"Control\\t\\t\", end=\"\")\n",
    "for tag in dataset_tags:\n",
    "    print(f\"{entropy_as_log(before_entropy[tag]):.7f}\\t\\t\", end=\"\")\n",
    "print(\"\\t0.0000000\\t\\t\", end=\"\")\n",
    "print(\"\\tN/A\\t\\t\", end=\"\")\n",
    "# print(f\"{timed_throughput[0]}:.7f\\t\\t\")\n",
    "print('\\n')\n",
    "\n",
    "print(\"Von Neumann\\t\", end=\"\")\n",
    "for tag in dataset_tags:\n",
    "    print(f\"{entropy_as_log(neumann_entropy[tag]):.7f}\\t\\t\", end=\"\")\n",
    "print(f\"\\t{waste_ratios[0]:.7f}\\t\\t\", end=\"\")\n",
    "print(f\"\\t{timed_throughput[0]:.7f}\\t\\t\", end=\"\")\n",
    "print('\\n')\n",
    "\n",
    "print(\"Toeplitz\\t\", end=\"\")\n",
    "for tag in dataset_tags:\n",
    "    print(f\"{entropy_as_log(toeplitz_entropy[tag]):.7f}\\t\\t\", end=\"\")\n",
    "print(f\"\\t{waste_ratios[1]:.7f}\\t\\t\", end=\"\")\n",
    "print(f\"\\t{timed_throughput[1]:.7f}\\t\\t\", end=\"\")\n",
    "print('\\n')\n",
    "\n",
    "print(\"FFT   \\t\\t\", end=\"\")\n",
    "for tag in dataset_tags:\n",
    "    print(f\"{entropy_as_log(FFT_entropy[tag]):.7f}\\t\\t\", end=\"\")\n",
    "print(f\"\\t{waste_ratios[2]:.7f}\\t\\t\", end=\"\")\n",
    "print(f\"\\t{timed_throughput[2]:.7f}\\t\\t\", end=\"\")\n",
    "print('\\n')\n",
    "\n",
    "print(\"Parity\\t\\t\", end=\"\")\n",
    "for tag in dataset_tags:\n",
    "    print(f\"{entropy_as_log(parity_entropy[tag]):.7f}\\t\\t\", end=\"\")\n",
    "print(f\"\\t{waste_ratios[3]:.7f}\\t\\t\", end=\"\")\n",
    "print(f\"\\t{timed_throughput[3]:.7f}\\t\\t\", end=\"\")\n",
    "print('\\n')\n"
   ]
  },
  {
   "cell_type": "code",
   "execution_count": null,
   "metadata": {},
   "outputs": [],
   "source": []
  }
 ],
 "metadata": {
  "kernelspec": {
   "display_name": "QiskitEnv",
   "language": "python",
   "name": "qiskitenv"
  },
  "language_info": {
   "codemirror_mode": {
    "name": "ipython",
    "version": 3
   },
   "file_extension": ".py",
   "mimetype": "text/x-python",
   "name": "python",
   "nbconvert_exporter": "python",
   "pygments_lexer": "ipython3",
   "version": "3.12.7"
  }
 },
 "nbformat": 4,
 "nbformat_minor": 4
}
