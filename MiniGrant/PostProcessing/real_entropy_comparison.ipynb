{
 "cells": [
  {
   "cell_type": "code",
   "execution_count": 1,
   "metadata": {},
   "outputs": [],
   "source": [
    "import postprocessing as pp\n",
    "import numpy as np\n",
    "import time\n",
    "import math"
   ]
  },
  {
   "cell_type": "code",
   "execution_count": 2,
   "metadata": {},
   "outputs": [],
   "source": [
    "def waste_ratio(old_data, new_data):\n",
    "    return 1 - len(new_data)/len(old_data)\n",
    "\n",
    "def throughput(time, new_data):\n",
    "    return len(new_data) / time / 1e6 #Mb/s\n",
    "\n",
    "def read_file(filepath):\n",
    "    with open(filepath, \"r\", encoding=\"utf-8\") as f:\n",
    "        data = f.read().strip()  # Read the file and remove any surrounding whitespace\n",
    "\n",
    "        # Convert to a NumPy array of integers\n",
    "        array = np.array([int(c) for c in data], dtype=np.uint8)\n",
    "        return array"
   ]
  },
  {
   "cell_type": "code",
   "execution_count": 10,
   "metadata": {},
   "outputs": [],
   "source": [
    "# Get datasets\n",
    "# dataset_tags stores names of dataset, combine with dictionary to minimize clutter\n",
    "# Each dataset tag represent the type of data\n",
    "dataset_tags = [\"IBM_Brisbane\", \"IBM_Brisbane\", \"IBM_Brisbane\"]\n",
    "datapaths = [\"ibm_brisbane_30_1024_30_2.txt\", \"ibm_brisbane_30_1024_30_2.txt\", \"ibm_brisbane_30_1024_30_2.txt\"]\n",
    "datasets = {}\n",
    "\n",
    "for i, tag in enumerate(dataset_tags):\n",
    "    datasets[tag] = read_file(datapaths[i])\n"
   ]
  },
  {
   "cell_type": "code",
   "execution_count": 11,
   "metadata": {},
   "outputs": [],
   "source": [
    "# Measure before entropy\n",
    "before_entropy = {}\n",
    "for tag in dataset_tags:\n",
    "    before_entropy[tag] = pp.shannon_entropy(datasets[tag])"
   ]
  },
  {
   "cell_type": "code",
   "execution_count": 12,
   "metadata": {},
   "outputs": [],
   "source": [
    "# Apply transformations, and measure the throughput\n",
    "\n",
    "# Get toeplitz matrix\n",
    "\n",
    "# block_size = \n",
    "# toeplitz_size = dataset_size\n",
    "# first_row = np.random.randint(0, 2, toeplitz_size)\n",
    "# first_column = np.random.randint(0, 2, toeplitz_size)\n",
    "# toeplitz_matrix = pp.create_toeplitz(first_row, first_column)\n",
    "neumann_datasets = {}\n",
    "toeplitz_datasets = {}\n",
    "FFT_datasets = {}\n",
    "parity_datasets = {}\n",
    "# Use average across all datasets for throughput\n",
    "# Throughput is current just the time it takes\n",
    "timed_throughput = [0, 0, 0, 0]\n",
    "waste_ratios = [0, 0, 0, 0]\n",
    "\n",
    "for tag in dataset_tags:\n",
    "    # Manually apply each method\n",
    "    t0 = time.time()\n",
    "    neumann_datasets[tag] = pp.apply_von_neumann_extractor(datasets[tag])\n",
    "    t1 = time.time()\n",
    "    timed_throughput[0] += throughput(t1 - t0, neumann_datasets[tag])\n",
    "    waste_ratios[0] += waste_ratio(datasets[tag], neumann_datasets[tag])\n",
    "\n",
    "\n",
    "    t0 = time.time()\n",
    "    toeplitz_datasets[tag] = pp.apply_toeplitz_transformation(datasets[tag])\n",
    "    t1 = time.time()\n",
    "    timed_throughput[1] += throughput(t1 - t0, toeplitz_datasets[tag])\n",
    "    waste_ratios[1] += waste_ratio(datasets[tag], toeplitz_datasets[tag])\n",
    "\n",
    "    t0 = time.time()\n",
    "    FFT_datasets[tag] = pp.apply_fft_toeplitz(datasets[tag])\n",
    "    t1 = time.time()\n",
    "    timed_throughput[2] += throughput(t1 - t0, FFT_datasets[tag])\n",
    "    waste_ratios[2] += waste_ratio(datasets[tag], FFT_datasets[tag])\n",
    "\n",
    "    t0 = time.time()\n",
    "    parity_datasets[tag] = pp.apply_parity_extractor(datasets[tag])\n",
    "    t1 = time.time()\n",
    "    timed_throughput[3] += throughput(t1 - t0, parity_datasets[tag])\n",
    "    waste_ratios[3] += waste_ratio(datasets[tag], parity_datasets[tag])\n",
    "\n",
    "for i in range(0,4):\n",
    "    timed_throughput[i] /= len(dataset_tags)\n",
    "    waste_ratios[i] /= len(dataset_tags)\n",
    "    \n",
    "\n",
    "\n",
    "\n"
   ]
  },
  {
   "cell_type": "code",
   "execution_count": 13,
   "metadata": {},
   "outputs": [],
   "source": [
    "# Measure entropy of each applied transform\n",
    "# neumann_datasets = {}\n",
    "# toeplitz_datasets = {}\n",
    "# FFT_datasets = {}\n",
    "# parity_datasets = {}\n",
    "\n",
    "neumann_entropy = {}\n",
    "toeplitz_entropy = {}\n",
    "FFT_entropy = {}\n",
    "parity_entropy = {}\n",
    "\n",
    "for tag in dataset_tags:\n",
    "    neumann_entropy[tag] = pp.shannon_entropy(neumann_datasets[tag])\n",
    "    toeplitz_entropy[tag] = pp.shannon_entropy(toeplitz_datasets[tag])\n",
    "    FFT_entropy[tag] = pp.shannon_entropy(FFT_datasets[tag])\n",
    "    parity_entropy[tag] = pp.shannon_entropy(parity_datasets[tag])"
   ]
  },
  {
   "cell_type": "code",
   "execution_count": 16,
   "metadata": {},
   "outputs": [
    {
     "name": "stdout",
     "output_type": "stream",
     "text": [
      "Method\t\tIBM_Brisbane\t\tIBM_Brisbane\t\tIBM_Brisbane\t\t\tWasteRatio\t\t\tThroughput\n",
      "Control\t\t7.5603954\t\t7.5603954\t\t7.5603954\t\t\t0.0000000\t\t\tN/A\t\t\n",
      "\n",
      "Von Neumann\t7.9158515\t\t7.9158515\t\t7.9158515\t\t\t0.7490560\t\t\t1.3583762\t\t\n",
      "\n",
      "Toeplitz\t4.3002129\t\t4.3002129\t\t4.3002129\t\t\t0.0000000\t\t\t1.8301500\t\t\n",
      "\n",
      "FFT   \t\t4.4558668\t\t4.4558668\t\t4.4558668\t\t\t0.0000000\t\t\t1.7742240\t\t\n",
      "\n",
      "Parity\t\t5.9125778\t\t5.9125778\t\t5.9125778\t\t\t0.7500000\t\t\t24.4624244\t\t\n",
      "\n"
     ]
    }
   ],
   "source": [
    "# Display results\n",
    "def entropy_as_log(f):\n",
    "    return -math.log10(1-f)\n",
    "print(\"Method\\t\\t\", end=\"\")\n",
    "for tag in dataset_tags:\n",
    "    print(f\"{tag}\\t\\t\", end=\"\")\n",
    "print(\"\\tWasteRatio\\t\\t\\tThroughput\")\n",
    "print(\"Control\\t\\t\", end=\"\")\n",
    "for tag in dataset_tags:\n",
    "    print(f\"{entropy_as_log(before_entropy[tag]):.7f}\\t\\t\", end=\"\")\n",
    "print(\"\\t0.0000000\\t\\t\", end=\"\")\n",
    "print(\"\\tN/A\\t\\t\", end=\"\")\n",
    "# print(f\"{timed_throughput[0]}:.7f\\t\\t\")\n",
    "print('\\n')\n",
    "\n",
    "print(\"Von Neumann\\t\", end=\"\")\n",
    "for tag in dataset_tags:\n",
    "    print(f\"{entropy_as_log(neumann_entropy[tag]):.7f}\\t\\t\", end=\"\")\n",
    "print(f\"\\t{waste_ratios[0]:.7f}\\t\\t\", end=\"\")\n",
    "print(f\"\\t{timed_throughput[0]:.7f}\\t\\t\", end=\"\")\n",
    "print('\\n')\n",
    "\n",
    "print(\"Toeplitz\\t\", end=\"\")\n",
    "for tag in dataset_tags:\n",
    "    print(f\"{entropy_as_log(toeplitz_entropy[tag]):.7f}\\t\\t\", end=\"\")\n",
    "print(f\"\\t{waste_ratios[1]:.7f}\\t\\t\", end=\"\")\n",
    "print(f\"\\t{timed_throughput[1]:.7f}\\t\\t\", end=\"\")\n",
    "print('\\n')\n",
    "\n",
    "print(\"FFT   \\t\\t\", end=\"\")\n",
    "for tag in dataset_tags:\n",
    "    print(f\"{entropy_as_log(FFT_entropy[tag]):.7f}\\t\\t\", end=\"\")\n",
    "print(f\"\\t{waste_ratios[2]:.7f}\\t\\t\", end=\"\")\n",
    "print(f\"\\t{timed_throughput[2]:.7f}\\t\\t\", end=\"\")\n",
    "print('\\n')\n",
    "\n",
    "print(\"Parity\\t\\t\", end=\"\")\n",
    "for tag in dataset_tags:\n",
    "    print(f\"{entropy_as_log(parity_entropy[tag]):.7f}\\t\\t\", end=\"\")\n",
    "print(f\"\\t{waste_ratios[3]:.7f}\\t\\t\", end=\"\")\n",
    "print(f\"\\t{timed_throughput[3]:.7f}\\t\\t\", end=\"\")\n",
    "print('\\n')\n"
   ]
  },
  {
   "cell_type": "code",
   "execution_count": null,
   "metadata": {},
   "outputs": [],
   "source": []
  }
 ],
 "metadata": {
  "kernelspec": {
   "display_name": "QiskitEnv",
   "language": "python",
   "name": "qiskitenv"
  },
  "language_info": {
   "codemirror_mode": {
    "name": "ipython",
    "version": 3
   },
   "file_extension": ".py",
   "mimetype": "text/x-python",
   "name": "python",
   "nbconvert_exporter": "python",
   "pygments_lexer": "ipython3",
   "version": "3.12.7"
  }
 },
 "nbformat": 4,
 "nbformat_minor": 4
}
