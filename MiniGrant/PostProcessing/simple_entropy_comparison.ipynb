{
 "cells": [
  {
   "cell_type": "code",
   "execution_count": 1,
   "metadata": {},
   "outputs": [],
   "source": [
    "import postprocessing as pp\n",
    "import numpy as np\n",
    "import time\n",
    "import math"
   ]
  },
  {
   "cell_type": "code",
   "execution_count": 2,
   "metadata": {},
   "outputs": [],
   "source": [
    "def waste_ratio(old_data, new_data):\n",
    "    return 1 - len(new_data)/len(old_data)\n",
    "\n",
    "def throughput(time, new_data):\n",
    "    return len(new_data) / time / 1e6 #Mb/s\n",
    "\n",
    "parity_blocksize = 4"
   ]
  },
  {
   "cell_type": "code",
   "execution_count": 3,
   "metadata": {},
   "outputs": [],
   "source": [
    "# Get datasets\n",
    "# dataset_tags stores names of dataset, combine with dictionary to minimize clutter\n",
    "# Each dataset tag represent the type of data\n",
    "dataset_size = 10000000\n",
    "dataset_tags = [\"classical_low_data\", \"classical_high_data\", \"quantum_data\"]\n",
    "datasets = {}\n",
    "\n",
    "# Manual entry of each of your datasets, ensure they match with tag\n",
    "classical_low_data = pp.generate_low_entropy_array(dataset_size)\n",
    "classical_high_data = pp.generate_high_entropy_array(dataset_size)\n",
    "quantum_data = pp.generate_qrng_data(dataset_size)\n",
    "\n",
    "datasets[dataset_tags[0]] = classical_low_data\n",
    "datasets[dataset_tags[1]] = classical_high_data\n",
    "datasets[dataset_tags[2]] = quantum_data"
   ]
  },
  {
   "cell_type": "code",
   "execution_count": 4,
   "metadata": {},
   "outputs": [],
   "source": [
    "# Measure before entropy\n",
    "before_entropy = {}\n",
    "for tag in dataset_tags:\n",
    "    before_entropy[tag] = pp.shannon_entropy(datasets[tag].copy())"
   ]
  },
  {
   "cell_type": "code",
   "execution_count": 5,
   "metadata": {},
   "outputs": [],
   "source": [
    "# Apply transformations, and measure the throughput\n",
    "\n",
    "# Get toeplitz matrix\n",
    "\n",
    "# block_size = \n",
    "# toeplitz_size = dataset_size\n",
    "# first_row = np.random.randint(0, 2, toeplitz_size)\n",
    "# first_column = np.random.randint(0, 2, toeplitz_size)\n",
    "# toeplitz_matrix = pp.create_toeplitz(first_row, first_column)\n",
    "neumann_datasets = {}\n",
    "toeplitz_datasets = {}\n",
    "FFT_datasets = {}\n",
    "parity_datasets = {}\n",
    "# Use average across all datasets for throughput\n",
    "# Throughput is current just the time it takes\n",
    "timed_throughput = [0, 0, 0, 0]\n",
    "waste_ratios = [0, 0, 0, 0]\n",
    "\n",
    "for tag in dataset_tags:\n",
    "    # Manually apply each method\n",
    "    t0 = time.time()\n",
    "    neumann_datasets[tag] = pp.apply_von_neumann_extractor(datasets[tag].copy())\n",
    "    t1 = time.time()\n",
    "    timed_throughput[0] += throughput(t1 - t0, neumann_datasets[tag].copy())\n",
    "    waste_ratios[0] += waste_ratio(datasets[tag].copy(), neumann_datasets[tag].copy())\n",
    "\n",
    "\n",
    "    t0 = time.time()\n",
    "    toeplitz_datasets[tag] = pp.apply_toeplitz_transformation(datasets[tag].copy())\n",
    "    t1 = time.time()\n",
    "    timed_throughput[1] += throughput(t1 - t0, toeplitz_datasets[tag].copy())\n",
    "    waste_ratios[1] += waste_ratio(datasets[tag].copy(), toeplitz_datasets[tag].copy())\n",
    "\n",
    "    t0 = time.time()\n",
    "    FFT_datasets[tag] = pp.apply_fft_toeplitz(datasets[tag].copy())\n",
    "    t1 = time.time()\n",
    "    timed_throughput[2] += throughput(t1 - t0, FFT_datasets[tag].copy())\n",
    "    waste_ratios[2] += waste_ratio(datasets[tag].copy(), FFT_datasets[tag].copy())\n",
    "\n",
    "    t0 = time.time()\n",
    "    parity_datasets[tag] = pp.apply_parity_extractor(datasets[tag].copy(), blocksize=parity_blocksize)\n",
    "    t1 = time.time()\n",
    "    timed_throughput[3] += throughput(t1 - t0, parity_datasets[tag].copy())\n",
    "    waste_ratios[3] += waste_ratio(datasets[tag].copy(), parity_datasets[tag].copy())\n",
    "\n",
    "for i in range(0,4):\n",
    "    timed_throughput[i] /= len(dataset_tags)\n",
    "    waste_ratios[i] /= len(dataset_tags)\n",
    "    \n",
    "\n",
    "\n",
    "\n"
   ]
  },
  {
   "cell_type": "code",
   "execution_count": 6,
   "metadata": {},
   "outputs": [],
   "source": [
    "# Measure entropy of each applied transform\n",
    "# neumann_datasets = {}\n",
    "# toeplitz_datasets = {}\n",
    "# FFT_datasets = {}\n",
    "# parity_datasets = {}\n",
    "\n",
    "neumann_entropy = {}\n",
    "toeplitz_entropy = {}\n",
    "FFT_entropy = {}\n",
    "parity_entropy = {}\n",
    "\n",
    "for tag in dataset_tags:\n",
    "    neumann_entropy[tag] = pp.shannon_entropy(neumann_datasets[tag].copy())\n",
    "    toeplitz_entropy[tag] = pp.shannon_entropy(toeplitz_datasets[tag].copy())\n",
    "    FFT_entropy[tag] = pp.shannon_entropy(FFT_datasets[tag].copy())\n",
    "    parity_entropy[tag] = pp.shannon_entropy(parity_datasets[tag].copy())"
   ]
  },
  {
   "cell_type": "code",
   "execution_count": 7,
   "metadata": {},
   "outputs": [
    {
     "name": "stdout",
     "output_type": "stream",
     "text": [
      "Method\t\tP=0.9\t\t\tP=0.5\t\t\tSimulator\t\t\tWaste Ratio\t\t\tThroughput\n",
      "Control\t\t0.2745428\t\t7.5450227\t\t6.7263745\t\t\t0.0000000\t\t\tN/A\t\t\n",
      "\n",
      "Von Neumann\t6.3906407\t\t7.4442190\t\t9.6708461\t\t\t0.8033903\t\t\t1.7754043\t\t\n",
      "\n",
      "Toeplitz\t8.1629558\t\t6.4001116\t\t7.8967684\t\t\t0.0000000\t\t\t4.0245230\t\t\n",
      "\n",
      "FFT   \t\t6.4912629\t\t8.3643735\t\t6.8262145\t\t\t0.0000000\t\t\t3.4856022\t\t\n",
      "\n",
      "Parity\t\t0.9036065\t\t6.1198994\t\t6.7165560\t\t\t0.7500000\t\t\t29.2226309\t\t\n",
      "\n"
     ]
    }
   ],
   "source": [
    "# Display results\n",
    "def entropy_as_log(f):\n",
    "    return -math.log10(1-f)\n",
    "\n",
    "print(\"Method\\t\\tP=0.9\\t\\t\\tP=0.5\\t\\t\\tSimulator\\t\\t\\tWaste Ratio\\t\\t\\tThroughput\")\n",
    "print(\"Control\\t\\t\", end=\"\")\n",
    "for tag in dataset_tags:\n",
    "    print(f\"{entropy_as_log(before_entropy[tag]):.7f}\\t\\t\", end=\"\")\n",
    "print(\"\\t0.0000000\\t\\t\", end=\"\")\n",
    "print(\"\\tN/A\\t\\t\", end=\"\")\n",
    "# print(f\"{timed_throughput[0]}:.7f\\t\\t\")\n",
    "print('\\n')\n",
    "\n",
    "print(\"Von Neumann\\t\", end=\"\")\n",
    "for tag in dataset_tags:\n",
    "    print(f\"{entropy_as_log(neumann_entropy[tag]):.7f}\\t\\t\", end=\"\")\n",
    "print(f\"\\t{waste_ratios[0]:.7f}\\t\\t\", end=\"\")\n",
    "print(f\"\\t{timed_throughput[0]:.7f}\\t\\t\", end=\"\")\n",
    "print('\\n')\n",
    "\n",
    "print(\"Toeplitz\\t\", end=\"\")\n",
    "for tag in dataset_tags:\n",
    "    print(f\"{entropy_as_log(toeplitz_entropy[tag]):.7f}\\t\\t\", end=\"\")\n",
    "print(f\"\\t{waste_ratios[1]:.7f}\\t\\t\", end=\"\")\n",
    "print(f\"\\t{timed_throughput[1]:.7f}\\t\\t\", end=\"\")\n",
    "print('\\n')\n",
    "\n",
    "print(\"FFT   \\t\\t\", end=\"\")\n",
    "for tag in dataset_tags:\n",
    "    print(f\"{entropy_as_log(FFT_entropy[tag]):.7f}\\t\\t\", end=\"\")\n",
    "print(f\"\\t{waste_ratios[2]:.7f}\\t\\t\", end=\"\")\n",
    "print(f\"\\t{timed_throughput[2]:.7f}\\t\\t\", end=\"\")\n",
    "print('\\n')\n",
    "\n",
    "print(\"Parity\\t\\t\", end=\"\")\n",
    "for tag in dataset_tags:\n",
    "    print(f\"{entropy_as_log(parity_entropy[tag]):.7f}\\t\\t\", end=\"\")\n",
    "print(f\"\\t{waste_ratios[3]:.7f}\\t\\t\", end=\"\")\n",
    "print(f\"\\t{timed_throughput[3]:.7f}\\t\\t\", end=\"\")\n",
    "print('\\n')\n"
   ]
  }
 ],
 "metadata": {
  "kernelspec": {
   "display_name": "QiskitEnv",
   "language": "python",
   "name": "qiskitenv"
  },
  "language_info": {
   "codemirror_mode": {
    "name": "ipython",
    "version": 3
   },
   "file_extension": ".py",
   "mimetype": "text/x-python",
   "name": "python",
   "nbconvert_exporter": "python",
   "pygments_lexer": "ipython3",
   "version": "3.12.7"
  }
 },
 "nbformat": 4,
 "nbformat_minor": 4
}
