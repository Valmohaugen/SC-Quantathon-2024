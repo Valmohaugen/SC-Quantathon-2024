{
 "cells": [
  {
   "cell_type": "code",
   "execution_count": 3,
   "metadata": {},
   "outputs": [],
   "source": [
    "import numpy as np\n",
    "from qiskit import *                 \n",
    "from qiskit_aer import *             \n",
    "from qiskit_ibm_runtime import *"
   ]
  },
  {
   "cell_type": "code",
   "execution_count": 4,
   "metadata": {},
   "outputs": [],
   "source": [
    "# Variables\n",
    "machine = 'ibm_brisbane'            # Chosen machine to submit jobs to\n",
    "num_qubits = 30                  # Number of qubits to run on\n",
    "num_shots = 1024                 # Number of shots to take\n",
    "chunk_size = 30                  # Size of the chunking for the mod2 and iteration methods\n",
    "mod2_mods = 3                    # Number of times to apply mod2. The value inputted results in 2 runs per 1 value. mod2_mods=3 --> 6 jobs QPU submitted"
   ]
  },
  {
   "cell_type": "code",
   "execution_count": 5,
   "metadata": {},
   "outputs": [],
   "source": [
    "# Lets us use IBM machines\n",
    "QiskitRuntimeService.save_account(channel = 'ibm_quantum', token = '4b3a2ecb92b9446de636396b89dd76f0d61c2715122c6a353720e5b58c124a7d3d20528012332d57add9a37a61aaf508b54c97698ddc770f922d68fd213b1b25',\n",
    "                                  overwrite = True, set_as_default = True)\n",
    "service = QiskitRuntimeService(instance = \"ibm-q/open/main\")"
   ]
  },
  {
   "cell_type": "code",
   "execution_count": 6,
   "metadata": {},
   "outputs": [],
   "source": [
    "# Increased QRNG on Aer Simulator\n",
    "def number_generator_simulator(num_qubits, num_shots):\n",
    "    circ = QuantumCircuit(num_qubits, num_qubits)                 # Creates circuit with number of qubits obtained\n",
    "    circ.h(range(num_qubits))                                     # Applies a hadamard gate to all qubits\n",
    "    circ.measure(range(num_qubits), range(num_qubits))            # Measures all qubits and assigns them to classical bits\n",
    "\n",
    "    simulator = AerSimulator()                                    # Lets us use the Aer Simulator \n",
    "    compiled_circuit = transpile(circ, simulator)                 # Compiled circuit using Aer \n",
    "    result = simulator.run(compiled_circuit, shots=num_shots, memory=True).result()      # Result with the 10000 shots as to not run forever on IBM machines\n",
    "    raw_data = result.get_memory()\n",
    "    data = ''.join(raw_data)\n",
    "\n",
    "    return data     # Returns a concatenated string of all binary digits in the order that they were measured"
   ]
  },
  {
   "cell_type": "code",
   "execution_count": 7,
   "metadata": {},
   "outputs": [],
   "source": [
    "# Increased QRNG on ibm_brisbane\n",
    "def number_generator_brisbane(num_qubits, num_shots):\n",
    "    circ = QuantumCircuit(num_qubits, num_qubits)                 # Creates circuit with number of qubits obtained\n",
    "    circ.h(range(num_qubits))                                     # Applies a hadamard gate to all qubits\n",
    "    circ.measure(range(num_qubits), range(num_qubits))            # Measures all qubits and assigns them to classical bits\n",
    "\n",
    "    # Runs the QRNG on ibm_brisbane with num_shots\n",
    "    brisbane_backend = service.backend('ibm_brisbane')            # Creates a backend with ibm_brisbane\n",
    "    pm = generate_preset_pass_manager(backend=brisbane_backend, optimization_level=3)   # Can change optimization_level to whatever's desired\n",
    "    isa_circuit = pm.run(circ)\n",
    "\n",
    "    with Session(backend=brisbane_backend) as session:\n",
    "        sampler = Sampler(mode=session)\n",
    "        job = sampler.run([isa_circuit], shots=num_shots)\n",
    "        counts = job.result()[0].data.c.get_counts()\n",
    "        print(f'Job ID: {job.job_id()}\\nJob status: {job.status()}')\n",
    "        raw_data = list(counts.keys())\n",
    "        data = ''.join(raw_data)\n",
    "        \n",
    "    return data     # Returns a concatenated string of all binary digits in the order that they were measured"
   ]
  },
  {
   "cell_type": "code",
   "execution_count": 8,
   "metadata": {},
   "outputs": [],
   "source": [
    "# Increased QRNG on ibm_sherbrooke\n",
    "def number_generator_sherbrooke(num_qubits, num_shots):\n",
    "    circ = QuantumCircuit(num_qubits, num_qubits)                 # Creates circuit with number of qubits obtained\n",
    "    circ.h(range(num_qubits))                                     # Applies a hadamard gate to all qubits\n",
    "    circ.measure(range(num_qubits), range(num_qubits))            # Measures all qubits and assigns them to classical bits\n",
    "\n",
    "    # Runs the QRNG on ibm_sherbooke with num_shots\n",
    "    sherbooke_backend = service.backend('ibm_sherbooke')          # Creates a backend with ibm_sherbooke\n",
    "    pm = generate_preset_pass_manager(backend=sherbooke_backend, optimization_level=3)   # Can change optimization_level to whatever's desired\n",
    "    isa_circuit = pm.run(circ)\n",
    "\n",
    "    with Session(backend=sherbooke_backend) as session:\n",
    "        sampler = Sampler(mode=session)\n",
    "        job = sampler.run([isa_circuit], shots=num_shots)\n",
    "        counts = job.result()[0].data.c.get_counts()\n",
    "        print(f'Job ID: {job.job_id()}\\nJob status: {job.status()}')\n",
    "        raw_data = list(counts.keys())\n",
    "        data = ''.join(raw_data)\n",
    "\n",
    "    return data     # Returns a concatenated string of all binary digits in the order that they were measured"
   ]
  },
  {
   "cell_type": "code",
   "execution_count": 9,
   "metadata": {},
   "outputs": [],
   "source": [
    "# Iteration method\n",
    "# Memory limitations (simulator only 30) -> \"chunk\" bit input\n",
    "# chunk_size is # of qubits to divide chunk in to\n",
    "def iterationChunker(machine, chunk_size):\n",
    "    chunks = int(np.floor(num_qubits / chunk_size))\n",
    "    remainder = int(num_qubits - chunks * chunk_size)\n",
    "    rand_num = ''\n",
    "\n",
    "    for i in range(0, chunks):\n",
    "        if machine == 'simulator':\n",
    "            rand_num += number_generator_simulator(chunk_size, num_shots)\n",
    "        elif machine == 'ibm_brisbane':\n",
    "            rand_num += number_generator_brisbane(chunk_size, num_shots)\n",
    "        elif machine == 'ibm_sherbrooke':\n",
    "            rand_num += number_generator_sherbrooke(chunk_size, num_shots)\n",
    "\n",
    "    if remainder != 0:\n",
    "        for i in range(0, chunks):\n",
    "            if machine == 'simulator':\n",
    "                rand_num += number_generator_simulator(chunk_size, num_shots)\n",
    "            elif machine == 'ibm_brisbane':\n",
    "                rand_num += number_generator_brisbane(chunk_size, num_shots)\n",
    "            elif machine == 'ibm_sherbrooke':\n",
    "                rand_num += number_generator_sherbrooke(chunk_size, num_shots)\n",
    "\n",
    "    return rand_num"
   ]
  },
  {
   "cell_type": "code",
   "execution_count": 10,
   "metadata": {},
   "outputs": [],
   "source": [
    "# Mod2 method\n",
    "def mod2(machine, chunk_size, mod2_mods):\n",
    "    iterations = mod2_mods\n",
    "    outputs = []\n",
    "    final_rand_num = ''\n",
    "\n",
    "    for i in range(iterations):\n",
    "        outputs.append(iterationChunker(machine, chunk_size))\n",
    "\n",
    "    for i in range(0, iterations, mod2_mods):\n",
    "        pair_xor = ''\n",
    "        \n",
    "        for j in range (0, len(outputs[i])):\n",
    "            cur_char = 0\n",
    "            for k in range (0, mod2_mods):\n",
    "                cur_char += int(outputs[i + k][j])\n",
    "            pair_xor += str(cur_char % 2)\n",
    "\n",
    "        final_rand_num += pair_xor\n",
    "    \n",
    "    return final_rand_num"
   ]
  },
  {
   "cell_type": "code",
   "execution_count": 11,
   "metadata": {},
   "outputs": [
    {
     "ename": "KeyboardInterrupt",
     "evalue": "",
     "output_type": "error",
     "traceback": [
      "\u001b[0;31m---------------------------------------------------------------------------\u001b[0m",
      "\u001b[0;31mKeyboardInterrupt\u001b[0m                         Traceback (most recent call last)",
      "Cell \u001b[0;32mIn[11], line 1\u001b[0m\n\u001b[0;32m----> 1\u001b[0m data \u001b[38;5;241m=\u001b[39m \u001b[43mmod2\u001b[49m\u001b[43m(\u001b[49m\u001b[43mmachine\u001b[49m\u001b[43m,\u001b[49m\u001b[43m \u001b[49m\u001b[43mchunk_size\u001b[49m\u001b[43m,\u001b[49m\u001b[43m \u001b[49m\u001b[43mmod2_mods\u001b[49m\u001b[43m)\u001b[49m\n\u001b[1;32m      2\u001b[0m \u001b[38;5;28;01mif\u001b[39;00m machine \u001b[38;5;241m==\u001b[39m \u001b[38;5;124m'\u001b[39m\u001b[38;5;124msimulator\u001b[39m\u001b[38;5;124m'\u001b[39m:\n\u001b[1;32m      3\u001b[0m     \u001b[38;5;28;01mwith\u001b[39;00m \u001b[38;5;28mopen\u001b[39m(\u001b[38;5;124mf\u001b[39m\u001b[38;5;124m'\u001b[39m\u001b[38;5;132;01m{\u001b[39;00mmachine\u001b[38;5;132;01m}\u001b[39;00m\u001b[38;5;124m_\u001b[39m\u001b[38;5;132;01m{\u001b[39;00mnum_qubits\u001b[38;5;132;01m}\u001b[39;00m\u001b[38;5;124m_\u001b[39m\u001b[38;5;132;01m{\u001b[39;00mnum_shots\u001b[38;5;132;01m}\u001b[39;00m\u001b[38;5;124m_\u001b[39m\u001b[38;5;132;01m{\u001b[39;00mchunk_size\u001b[38;5;132;01m}\u001b[39;00m\u001b[38;5;124m_\u001b[39m\u001b[38;5;132;01m{\u001b[39;00mmod2_mods\u001b[38;5;132;01m}\u001b[39;00m\u001b[38;5;124m.txt\u001b[39m\u001b[38;5;124m'\u001b[39m, \u001b[38;5;124m'\u001b[39m\u001b[38;5;124mw\u001b[39m\u001b[38;5;124m'\u001b[39m) \u001b[38;5;28;01mas\u001b[39;00m f:\n",
      "Cell \u001b[0;32mIn[10], line 8\u001b[0m, in \u001b[0;36mmod2\u001b[0;34m(machine, chunk_size, mod2_mods)\u001b[0m\n\u001b[1;32m      5\u001b[0m final_rand_num \u001b[38;5;241m=\u001b[39m \u001b[38;5;124m'\u001b[39m\u001b[38;5;124m'\u001b[39m\n\u001b[1;32m      7\u001b[0m \u001b[38;5;28;01mfor\u001b[39;00m i \u001b[38;5;129;01min\u001b[39;00m \u001b[38;5;28mrange\u001b[39m(iterations):\n\u001b[0;32m----> 8\u001b[0m     outputs\u001b[38;5;241m.\u001b[39mappend(\u001b[43miterationChunker\u001b[49m\u001b[43m(\u001b[49m\u001b[43mmachine\u001b[49m\u001b[43m,\u001b[49m\u001b[43m \u001b[49m\u001b[43mchunk_size\u001b[49m\u001b[43m)\u001b[49m)\n\u001b[1;32m     10\u001b[0m \u001b[38;5;28;01mfor\u001b[39;00m i \u001b[38;5;129;01min\u001b[39;00m \u001b[38;5;28mrange\u001b[39m(\u001b[38;5;241m0\u001b[39m, iterations, mod2_mods):\n\u001b[1;32m     11\u001b[0m     pair_xor \u001b[38;5;241m=\u001b[39m \u001b[38;5;124m'\u001b[39m\u001b[38;5;124m'\u001b[39m\n",
      "Cell \u001b[0;32mIn[9], line 13\u001b[0m, in \u001b[0;36miterationChunker\u001b[0;34m(machine, chunk_size)\u001b[0m\n\u001b[1;32m     11\u001b[0m     rand_num \u001b[38;5;241m+\u001b[39m\u001b[38;5;241m=\u001b[39m number_generator_simulator(chunk_size, num_shots)\n\u001b[1;32m     12\u001b[0m \u001b[38;5;28;01melif\u001b[39;00m machine \u001b[38;5;241m==\u001b[39m \u001b[38;5;124m'\u001b[39m\u001b[38;5;124mibm_brisbane\u001b[39m\u001b[38;5;124m'\u001b[39m:\n\u001b[0;32m---> 13\u001b[0m     rand_num \u001b[38;5;241m+\u001b[39m\u001b[38;5;241m=\u001b[39m \u001b[43mnumber_generator_brisbane\u001b[49m\u001b[43m(\u001b[49m\u001b[43mchunk_size\u001b[49m\u001b[43m,\u001b[49m\u001b[43m \u001b[49m\u001b[43mnum_shots\u001b[49m\u001b[43m)\u001b[49m\n\u001b[1;32m     14\u001b[0m \u001b[38;5;28;01melif\u001b[39;00m machine \u001b[38;5;241m==\u001b[39m \u001b[38;5;124m'\u001b[39m\u001b[38;5;124mibm_sherbrooke\u001b[39m\u001b[38;5;124m'\u001b[39m:\n\u001b[1;32m     15\u001b[0m     rand_num \u001b[38;5;241m+\u001b[39m\u001b[38;5;241m=\u001b[39m number_generator_sherbrooke(chunk_size, num_shots)\n",
      "Cell \u001b[0;32mIn[7], line 15\u001b[0m, in \u001b[0;36mnumber_generator_brisbane\u001b[0;34m(num_qubits, num_shots)\u001b[0m\n\u001b[1;32m     13\u001b[0m sampler \u001b[38;5;241m=\u001b[39m Sampler(mode\u001b[38;5;241m=\u001b[39msession)\n\u001b[1;32m     14\u001b[0m job \u001b[38;5;241m=\u001b[39m sampler\u001b[38;5;241m.\u001b[39mrun([isa_circuit], shots\u001b[38;5;241m=\u001b[39mnum_shots)\n\u001b[0;32m---> 15\u001b[0m counts \u001b[38;5;241m=\u001b[39m \u001b[43mjob\u001b[49m\u001b[38;5;241;43m.\u001b[39;49m\u001b[43mresult\u001b[49m\u001b[43m(\u001b[49m\u001b[43m)\u001b[49m[\u001b[38;5;241m0\u001b[39m]\u001b[38;5;241m.\u001b[39mdata\u001b[38;5;241m.\u001b[39mc\u001b[38;5;241m.\u001b[39mget_counts()\n\u001b[1;32m     16\u001b[0m \u001b[38;5;28mprint\u001b[39m(\u001b[38;5;124mf\u001b[39m\u001b[38;5;124m'\u001b[39m\u001b[38;5;124mJob ID: \u001b[39m\u001b[38;5;132;01m{\u001b[39;00mjob\u001b[38;5;241m.\u001b[39mjob_id()\u001b[38;5;132;01m}\u001b[39;00m\u001b[38;5;130;01m\\n\u001b[39;00m\u001b[38;5;124mJob status: \u001b[39m\u001b[38;5;132;01m{\u001b[39;00mjob\u001b[38;5;241m.\u001b[39mstatus()\u001b[38;5;132;01m}\u001b[39;00m\u001b[38;5;124m'\u001b[39m)\n\u001b[1;32m     17\u001b[0m raw_data \u001b[38;5;241m=\u001b[39m \u001b[38;5;28mlist\u001b[39m(counts\u001b[38;5;241m.\u001b[39mkeys())\n",
      "File \u001b[0;32m/opt/anaconda3/envs/qc/lib/python3.12/site-packages/qiskit_ibm_runtime/runtime_job_v2.py:133\u001b[0m, in \u001b[0;36mRuntimeJobV2.result\u001b[0;34m(self, timeout, decoder)\u001b[0m\n\u001b[1;32m    118\u001b[0m \u001b[38;5;250m\u001b[39m\u001b[38;5;124;03m\"\"\"Return the results of the job.\u001b[39;00m\n\u001b[1;32m    119\u001b[0m \n\u001b[1;32m    120\u001b[0m \u001b[38;5;124;03mArgs:\u001b[39;00m\n\u001b[0;32m   (...)\u001b[0m\n\u001b[1;32m    130\u001b[0m \u001b[38;5;124;03m    RuntimeInvalidStateError: If the job was cancelled, and attempting to retrieve result.\u001b[39;00m\n\u001b[1;32m    131\u001b[0m \u001b[38;5;124;03m\"\"\"\u001b[39;00m\n\u001b[1;32m    132\u001b[0m _decoder \u001b[38;5;241m=\u001b[39m decoder \u001b[38;5;129;01mor\u001b[39;00m \u001b[38;5;28mself\u001b[39m\u001b[38;5;241m.\u001b[39m_final_result_decoder\n\u001b[0;32m--> 133\u001b[0m \u001b[38;5;28;43mself\u001b[39;49m\u001b[38;5;241;43m.\u001b[39;49m\u001b[43mwait_for_final_state\u001b[49m\u001b[43m(\u001b[49m\u001b[43mtimeout\u001b[49m\u001b[38;5;241;43m=\u001b[39;49m\u001b[43mtimeout\u001b[49m\u001b[43m)\u001b[49m\n\u001b[1;32m    134\u001b[0m \u001b[38;5;28;01mif\u001b[39;00m \u001b[38;5;28mself\u001b[39m\u001b[38;5;241m.\u001b[39m_status \u001b[38;5;241m==\u001b[39m \u001b[38;5;124m\"\u001b[39m\u001b[38;5;124mERROR\u001b[39m\u001b[38;5;124m\"\u001b[39m:\n\u001b[1;32m    135\u001b[0m     error_message \u001b[38;5;241m=\u001b[39m \u001b[38;5;28mself\u001b[39m\u001b[38;5;241m.\u001b[39m_reason \u001b[38;5;28;01mif\u001b[39;00m \u001b[38;5;28mself\u001b[39m\u001b[38;5;241m.\u001b[39m_reason \u001b[38;5;28;01melse\u001b[39;00m \u001b[38;5;28mself\u001b[39m\u001b[38;5;241m.\u001b[39m_error_message\n",
      "File \u001b[0;32m/opt/anaconda3/envs/qc/lib/python3.12/site-packages/qiskit_ibm_runtime/runtime_job_v2.py:252\u001b[0m, in \u001b[0;36mRuntimeJobV2.wait_for_final_state\u001b[0;34m(self, timeout)\u001b[0m\n\u001b[1;32m    248\u001b[0m         \u001b[38;5;28;01mif\u001b[39;00m timeout \u001b[38;5;129;01mis\u001b[39;00m \u001b[38;5;129;01mnot\u001b[39;00m \u001b[38;5;28;01mNone\u001b[39;00m \u001b[38;5;129;01mand\u001b[39;00m elapsed_time \u001b[38;5;241m>\u001b[39m\u001b[38;5;241m=\u001b[39m timeout:\n\u001b[1;32m    249\u001b[0m             \u001b[38;5;28;01mraise\u001b[39;00m RuntimeJobTimeoutError(\n\u001b[1;32m    250\u001b[0m                 \u001b[38;5;124mf\u001b[39m\u001b[38;5;124m\"\u001b[39m\u001b[38;5;124mTimed out waiting for job to complete after \u001b[39m\u001b[38;5;132;01m{\u001b[39;00mtimeout\u001b[38;5;132;01m}\u001b[39;00m\u001b[38;5;124m secs.\u001b[39m\u001b[38;5;124m\"\u001b[39m\n\u001b[1;32m    251\u001b[0m             )\n\u001b[0;32m--> 252\u001b[0m         \u001b[43mtime\u001b[49m\u001b[38;5;241;43m.\u001b[39;49m\u001b[43msleep\u001b[49m\u001b[43m(\u001b[49m\u001b[38;5;241;43m0.1\u001b[39;49m\u001b[43m)\u001b[49m\n\u001b[1;32m    253\u001b[0m         status \u001b[38;5;241m=\u001b[39m \u001b[38;5;28mself\u001b[39m\u001b[38;5;241m.\u001b[39mstatus()\n\u001b[1;32m    254\u001b[0m \u001b[38;5;28;01mexcept\u001b[39;00m futures\u001b[38;5;241m.\u001b[39mTimeoutError:\n",
      "\u001b[0;31mKeyboardInterrupt\u001b[0m: "
     ]
    }
   ],
   "source": [
    "data = mod2(machine, chunk_size, mod2_mods)\n",
    "if machine == 'simulator':\n",
    "    with open(f'{machine}_{num_qubits}_{num_shots}_{chunk_size}_{mod2_mods}.txt', 'w') as f:\n",
    "        for shot in data:\n",
    "            f.write(shot)\n",
    "elif machine == 'ibm_brisbane':\n",
    "    with open(f'{machine}_{num_qubits}_{num_shots}_{chunk_size}_{mod2_mods}.txt', 'w') as f:\n",
    "        for shot in data:\n",
    "            f.write(shot)\n",
    "elif machine == 'ibm_sherbrooke':\n",
    "    with open(f'{machine}_{num_qubits}_{num_shots}_{chunk_size}_{mod2_mods}.txt', 'w') as f:\n",
    "        for shot in data:\n",
    "            f.write(shot)"
   ]
  }
 ],
 "metadata": {
  "kernelspec": {
   "display_name": "qc",
   "language": "python",
   "name": "python3"
  },
  "language_info": {
   "codemirror_mode": {
    "name": "ipython",
    "version": 3
   },
   "file_extension": ".py",
   "mimetype": "text/x-python",
   "name": "python",
   "nbconvert_exporter": "python",
   "pygments_lexer": "ipython3",
   "version": "3.12.7"
  }
 },
 "nbformat": 4,
 "nbformat_minor": 4
}
