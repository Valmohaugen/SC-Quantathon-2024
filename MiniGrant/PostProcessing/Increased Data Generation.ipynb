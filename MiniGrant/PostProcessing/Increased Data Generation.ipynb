{
 "cells": [
  {
   "cell_type": "code",
   "execution_count": 1,
   "metadata": {},
   "outputs": [],
   "source": [
    "import numpy as np\n",
    "from qiskit import *                 \n",
    "from qiskit_aer import *             \n",
    "from qiskit_ibm_runtime import *"
   ]
  },
  {
   "cell_type": "code",
   "execution_count": 2,
   "metadata": {},
   "outputs": [],
   "source": [
    "# Variables\n",
    "machine = 'simulator'            # Chosen machine to submit jobs to\n",
    "num_qubits = 30                  # Number of qubits to run on\n",
    "num_shots = 1024                 # Number of shots to take\n",
    "chunk_size = 30                  # Size of the chunking for the mod2 and iteration methods\n",
    "mod2_mods = 2                    # Number of times to apply mod2. The value inputted results in 2 runs per 1 value. mod2_mods=3 --> 6 jobs QPU submitted"
   ]
  },
  {
   "cell_type": "code",
   "execution_count": null,
   "metadata": {},
   "outputs": [],
   "source": [
    "# Lets us use IBM machines\n",
    "QiskitRuntimeService.save_account(channel = 'ibm_quantum', token = '',\n",
    "                                  overwrite = True, set_as_default = True)\n",
    "service = QiskitRuntimeService(instance = \"ibm-q/open/main\")"
   ]
  },
  {
   "cell_type": "code",
   "execution_count": 4,
   "metadata": {},
   "outputs": [],
   "source": [
    "# Increased QRNG on Aer Simulator\n",
    "def number_generator_simulator(num_qubits, num_shots):\n",
    "    circ = QuantumCircuit(num_qubits, num_qubits)                 # Creates circuit with number of qubits obtained\n",
    "    circ.h(range(num_qubits))                                     # Applies a hadamard gate to all qubits\n",
    "    circ.measure(range(num_qubits), range(num_qubits))            # Measures all qubits and assigns them to classical bits\n",
    "\n",
    "    simulator = AerSimulator()                                    # Lets us use the Aer Simulator \n",
    "    compiled_circuit = transpile(circ, simulator)                 # Compiled circuit using Aer \n",
    "    result = simulator.run(compiled_circuit, shots=num_shots, memory=True).result()      # Result with the 10000 shots as to not run forever on IBM machines\n",
    "    raw_data = result.get_memory()\n",
    "    data = ''.join(raw_data)\n",
    "\n",
    "    return data     # Returns a concatenated string of all binary digits in the order that they were measured"
   ]
  },
  {
   "cell_type": "code",
   "execution_count": 7,
   "metadata": {},
   "outputs": [],
   "source": [
    "# Increased QRNG on ibm_brisbane\n",
    "def number_generator_brisbane(num_qubits, num_shots):\n",
    "    circ = QuantumCircuit(num_qubits, num_qubits)                 # Creates circuit with number of qubits obtained\n",
    "    circ.h(range(num_qubits))                                     # Applies a hadamard gate to all qubits\n",
    "    circ.measure(range(num_qubits), range(num_qubits))            # Measures all qubits and assigns them to classical bits\n",
    "\n",
    "    # Runs the QRNG on ibm_brisbane with num_shots\n",
    "    brisbane_backend = service.backend('ibm_brisbane')            # Creates a backend with ibm_brisbane\n",
    "    pm = generate_preset_pass_manager(backend=brisbane_backend, optimization_level=3)   # Can change optimization_level to whatever's desired\n",
    "    isa_circuit = pm.run(circ)\n",
    "\n",
    "    with Session(backend=brisbane_backend) as session:\n",
    "        sampler = Sampler()\n",
    "        result = sampler.run([isa_circuit], shots=num_shots).result()\n",
    "        raw_data = result.get_memory()\n",
    "    \n",
    "    data = ''.join(raw_data)\n",
    "\n",
    "    return data     # Returns a concatenated string of all binary digits in the order that they were measured"
   ]
  },
  {
   "cell_type": "code",
   "execution_count": 8,
   "metadata": {},
   "outputs": [],
   "source": [
    "# Increased QRNG on ibm_sherbrooke\n",
    "def number_generator_sherbrooke(num_qubits, num_shots):\n",
    "    circ = QuantumCircuit(num_qubits, num_qubits)                 # Creates circuit with number of qubits obtained\n",
    "    circ.h(range(num_qubits))                                     # Applies a hadamard gate to all qubits\n",
    "    circ.measure(range(num_qubits), range(num_qubits))            # Measures all qubits and assigns them to classical bits\n",
    "\n",
    "    # Runs the QRNG on ibm_sherbooke with num_shots\n",
    "    sherbooke_backend = service.backend('ibm_sherbooke')          # Creates a backend with ibm_sherbooke\n",
    "    pm = generate_preset_pass_manager(backend=sherbooke_backend, optimization_level=3)   # Can change optimization_level to whatever's desired\n",
    "    isa_circuit = pm.run(circ)\n",
    "\n",
    "    with Session(backend=sherbooke_backend) as session:\n",
    "        sampler = Sampler()\n",
    "        result = sampler.run([isa_circuit], shots=num_shots).result()\n",
    "        raw_data = result.get_memory()\n",
    "\n",
    "    data = ''.join(raw_data)\n",
    "\n",
    "    return data     # Returns a concatenated string of all binary digits in the order that they were measured"
   ]
  },
  {
   "cell_type": "code",
   "execution_count": 5,
   "metadata": {},
   "outputs": [],
   "source": [
    "# Iteration method\n",
    "# Memory limitations (simulator only 30) -> \"chunk\" bit input\n",
    "# chunk_size is # of qubits to divide chunk in to\n",
    "def iterationChunker(machine, chunk_size):\n",
    "    chunks = int(np.floor(num_qubits / chunk_size))\n",
    "    remainder = int(num_qubits - chunks * chunk_size)\n",
    "    rand_num = ''\n",
    "\n",
    "    for i in range(0, chunks):\n",
    "        if machine == 'simulator':\n",
    "            rand_num += number_generator_simulator(chunk_size, num_shots)\n",
    "        elif machine == 'ibm_brisbane':\n",
    "            rand_num += number_generator_brisbane(chunk_size, num_shots)\n",
    "        elif machine == 'ibm_sherbrooke':\n",
    "            rand_num += number_generator_sherbrooke(chunk_size, num_shots)\n",
    "\n",
    "    if remainder != 0:\n",
    "        for i in range(0, chunks):\n",
    "            if machine == 'simulator':\n",
    "                rand_num += number_generator_simulator(chunk_size, num_shots)\n",
    "            elif machine == 'ibm_brisbane':\n",
    "                rand_num += number_generator_brisbane(chunk_size, num_shots)\n",
    "            elif machine == 'ibm_sherbrooke':\n",
    "                rand_num += number_generator_sherbrooke(chunk_size, num_shots)\n",
    "\n",
    "    return rand_num"
   ]
  },
  {
   "cell_type": "code",
   "execution_count": null,
   "metadata": {},
   "outputs": [],
   "source": [
    "# Mod2 method\n",
    "def mod2(machine, chunk_size, mod2_mods):\n",
    "    iterations = mod2_mods\n",
    "    outputs = []\n",
    "    final_rand_num = ''\n",
    "\n",
    "    for i in range(iterations):\n",
    "        outputs.append(iterationChunker(machine, chunk_size))\n",
    "\n",
    "    for i in range(0, iterations, mod2_mods):\n",
    "        \n",
    "        pair_xor = ''\n",
    "        \n",
    "        for j in range (0, len(outputs[i])):\n",
    "            cur_char = 0\n",
    "            for k in range (0,mod2_mods):\n",
    "                cur_char += int(outputs[i + k])\n",
    "            pair_xor += str(cur_char % 2)\n",
    "            print(\"Finished XOR\")\n",
    "\n",
    "        final_rand_num += pair_xor\n",
    "        print(\"Final length: \", len(final_rand_num))\n",
    "\n",
    "    \n",
    "    return final_rand_num"
   ]
  },
  {
   "cell_type": "code",
   "execution_count": 19,
   "metadata": {},
   "outputs": [
    {
     "name": "stdout",
     "output_type": "stream",
     "text": [
      "30720\n",
      "30720\n",
      "30720\n"
     ]
    }
   ],
   "source": [
    "data = mod2(machine, chunk_size, mod2_mods)\n",
    "if machine == 'simulator':\n",
    "    with open(f'{machine}_{num_qubits}_{num_shots}_{chunk_size}_{mod2_mods}.txt', 'w') as f:\n",
    "        for shot in data:\n",
    "            f.write(shot)\n",
    "elif machine == 'ibm_brisbane':\n",
    "    with open(f'{machine}_{num_qubits}_{num_shots}_{chunk_size}_{mod2_mods}.txt', 'w') as f:\n",
    "        for shot in data:\n",
    "            f.write(shot)\n",
    "elif machine == 'ibm_sherbrooke':\n",
    "    with open(f'{machine}_{num_qubits}_{num_shots}_{chunk_size}_{mod2_mods}.txt', 'w') as f:\n",
    "        for shot in data:\n",
    "            f.write(shot)"
   ]
  }
 ],
 "metadata": {
  "kernelspec": {
   "display_name": "qc",
   "language": "python",
   "name": "python3"
  },
  "language_info": {
   "codemirror_mode": {
    "name": "ipython",
    "version": 3
   },
   "file_extension": ".py",
   "mimetype": "text/x-python",
   "name": "python",
   "nbconvert_exporter": "python",
   "pygments_lexer": "ipython3",
   "version": "3.12.7"
  }
 },
 "nbformat": 4,
 "nbformat_minor": 4
}
