{
 "cells": [
  {
   "cell_type": "code",
   "execution_count": 1,
   "metadata": {},
   "outputs": [],
   "source": [
    "import postprocessing as pp\n",
    "import numpy as np\n",
    "import time"
   ]
  },
  {
   "cell_type": "code",
   "execution_count": 2,
   "metadata": {},
   "outputs": [],
   "source": [
    "def waste_ratio(old_data, new_data):\n",
    "    return len(new_data)/len(old_data)"
   ]
  },
  {
   "cell_type": "code",
   "execution_count": 3,
   "metadata": {},
   "outputs": [],
   "source": [
    "# Get datasets\n",
    "# dataset_tags stores names of dataset, combine with dictionary to minimize clutter\n",
    "dataset_size = 100000\n",
    "dataset_tags = [\"classical_low_data\", \"classical_high_data\", \"quantum_data\"]\n",
    "datasets = {}\n",
    "\n",
    "# Manual entry of each of your datasets\n",
    "classical_low_data = pp.generate_low_entropy_array(dataset_size)\n",
    "classical_high_data = pp.generate_high_entropy_array(dataset_size)\n",
    "quantum_data = pp.generate_qrng_data(dataset_size)\n",
    "\n",
    "datasets[dataset_tags[0]] = classical_low_data\n",
    "datasets[dataset_tags[1]] = classical_high_data\n",
    "datasets[dataset_tags[2]] = quantum_data"
   ]
  },
  {
   "cell_type": "code",
   "execution_count": 4,
   "metadata": {},
   "outputs": [],
   "source": [
    "# Measure before entropy\n",
    "before_entropy = {}\n",
    "for tag in dataset_tags:\n",
    "    before_entropy[tag] = pp.shannon_entropy(datasets[tag])\n"
   ]
  },
  {
   "cell_type": "code",
   "execution_count": 5,
   "metadata": {},
   "outputs": [],
   "source": [
    "# Apply transformations, and measure the throughput\n",
    "\n",
    "# Get toeplitz matrix\n",
    "\n",
    "# block_size = \n",
    "# toeplitz_size = dataset_size\n",
    "# first_row = np.random.randint(0, 2, toeplitz_size)\n",
    "# first_column = np.random.randint(0, 2, toeplitz_size)\n",
    "# toeplitz_matrix = pp.create_toeplitz(first_row, first_column)\n",
    "\n",
    "toeplitz_datasets = {}\n",
    "FFT_datasets = {}\n",
    "parity_datasets = {}\n",
    "# Use average across all datasets for throughput\n",
    "# Throughput is current just the time it takes\n",
    "timed_throughput = [0, 0, 0]\n",
    "waste_ratios = [0, 0, 0]\n",
    "\n",
    "\n",
    "\n",
    "for tag in dataset_tags:\n",
    "    \n",
    "    # Manually apply each method\n",
    "\n",
    "    t0 = time.time()\n",
    "    toeplitz_datasets[tag] = pp.apply_toeplitz_transformation(datasets[tag])\n",
    "    t1 = time.time()\n",
    "    timed_throughput[0] += t1 - t0\n",
    "    waste_ratios[0] += waste_ratio(datasets[tag], toeplitz_datasets[tag])\n",
    "\n",
    "    t0 = time.time()\n",
    "    FFT_datasets[tag] = pp.apply_fft_toeplitz(datasets[tag])\n",
    "    t1 = time.time()\n",
    "    timed_throughput[1] += t1 - t0\n",
    "    waste_ratios[1] += waste_ratio(datasets[tag], FFT_datasets[tag])\n",
    "\n",
    "    t0 = time.time()\n",
    "    parity_datasets[tag] = pp.apply_parity_extractor(datasets[tag])\n",
    "    t1 = time.time()\n",
    "    timed_throughput[2] += t1 - t0\n",
    "    waste_ratios[2] += waste_ratio(datasets[tag], parity_datasets[tag])\n",
    "\n",
    "for i in range(0,3):\n",
    "    timed_throughput[i] /= 3\n",
    "    waste_ratios[i] /= 3\n",
    "\n",
    "\n",
    "\n"
   ]
  },
  {
   "cell_type": "code",
   "execution_count": 6,
   "metadata": {},
   "outputs": [],
   "source": [
    "# Measure entropy of each applied transform\n",
    "toeplitz_entropy = {}\n",
    "FFT_entropy = {}\n",
    "parity_entropy = {}\n",
    "\n",
    "for tag in dataset_tags:\n",
    "    toeplitz_entropy[tag] = pp.shannon_entropy(datasets[tag])\n",
    "    FFT_entropy[tag] = pp.shannon_entropy(datasets[tag])\n",
    "    parity_entropy[tag] = pp.shannon_entropy(datasets[tag])\n"
   ]
  },
  {
   "cell_type": "code",
   "execution_count": 7,
   "metadata": {},
   "outputs": [
    {
     "name": "stdout",
     "output_type": "stream",
     "text": [
      "Method\t\tP=0.9\t\tP=0.5\t\tSimulator\t\tWaste Ratio\t\tThroughput\t\t\n",
      "Control\t\t0.47197\t\t1.00000\t\t1.00000\t\t\t1.00000\t\t\tN/A\t\t\n",
      "\n",
      "Toeplitz\t0.47197\t\t1.00000\t\t1.00000\t\t\t0.99968\t\t\t0.03372\t\t\n",
      "\n"
     ]
    }
   ],
   "source": [
    "# Display results\n",
    "print(\"Method\\t\\tP=0.9\\t\\tP=0.5\\t\\tSimulator\\t\\tWaste Ratio\\t\\tThroughput\\t\\t\")\n",
    "print(\"Control\\t\\t\", end=\"\")\n",
    "for tag in dataset_tags:\n",
    "    print(f\"{before_entropy[tag]:.5f}\\t\\t\", end=\"\")\n",
    "print(\"\\t1.00000\\t\\t\", end=\"\")\n",
    "print(\"\\tN/A\\t\\t\", end=\"\")\n",
    "# print(f\"{timed_throughput[0]}:.5f\\t\\t\")\n",
    "print('\\n')\n",
    "\n",
    "\n",
    "print(\"Toeplitz\\t\", end=\"\")\n",
    "for tag in dataset_tags:\n",
    "    print(f\"{toeplitz_entropy[tag]:.5f}\\t\\t\", end=\"\")\n",
    "print(f\"\\t{waste_ratios[1]:.5f}\\t\\t\", end=\"\")\n",
    "print(f\"\\t{timed_throughput[1]:.5f}\\t\\t\", end=\"\")\n",
    "print('\\n')\n"
   ]
  },
  {
   "cell_type": "code",
   "execution_count": null,
   "metadata": {},
   "outputs": [],
   "source": []
  },
  {
   "cell_type": "code",
   "execution_count": null,
   "metadata": {},
   "outputs": [],
   "source": []
  }
 ],
 "metadata": {
  "kernelspec": {
   "display_name": "Python 3",
   "language": "python",
   "name": "python3"
  },
  "language_info": {
   "codemirror_mode": {
    "name": "ipython",
    "version": 3
   },
   "file_extension": ".py",
   "mimetype": "text/x-python",
   "name": "python",
   "nbconvert_exporter": "python",
   "pygments_lexer": "ipython3",
   "version": "3.11.9"
  }
 },
 "nbformat": 4,
 "nbformat_minor": 2
}
