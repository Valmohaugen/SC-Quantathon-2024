{
 "cells": [
  {
   "cell_type": "code",
   "execution_count": 1,
   "metadata": {},
   "outputs": [],
   "source": [
    "import postprocessing as pp\n",
    "import numpy as np\n",
    "import time"
   ]
  },
  {
   "cell_type": "code",
   "execution_count": 2,
   "metadata": {},
   "outputs": [],
   "source": [
    "def waste_ratio(old_data, new_data):\n",
    "    return len(new_data)/len(old_data)"
   ]
  },
  {
   "cell_type": "code",
   "execution_count": 3,
   "metadata": {},
   "outputs": [],
   "source": [
    "# Get datasets\n",
    "# dataset_tags stores names of dataset, combine with dictionary to minimize clutter\n",
    "# Each dataset tag represent the type of data\n",
    "dataset_size = 100000\n",
    "dataset_tags = [\"classical_low_data\", \"classical_high_data\", \"quantum_data\"]\n",
    "datasets = {}\n",
    "\n",
    "# Manual entry of each of your datasets, ensure they match with tag\n",
    "classical_low_data = pp.generate_low_entropy_array(dataset_size)\n",
    "classical_high_data = pp.generate_high_entropy_array(dataset_size)\n",
    "quantum_data = pp.generate_qrng_data(dataset_size)\n",
    "\n",
    "datasets[dataset_tags[0]] = classical_low_data\n",
    "datasets[dataset_tags[1]] = classical_high_data\n",
    "datasets[dataset_tags[2]] = quantum_data"
   ]
  },
  {
   "cell_type": "code",
   "execution_count": 4,
   "metadata": {},
   "outputs": [],
   "source": [
    "# Measure before entropy\n",
    "before_entropy = {}\n",
    "for tag in dataset_tags:\n",
    "    before_entropy[tag] = pp.shannon_entropy(datasets[tag])"
   ]
  },
  {
   "cell_type": "code",
   "execution_count": 5,
   "metadata": {},
   "outputs": [],
   "source": [
    "# Apply transformations, and measure the throughput\n",
    "\n",
    "# Get toeplitz matrix\n",
    "\n",
    "# block_size = \n",
    "# toeplitz_size = dataset_size\n",
    "# first_row = np.random.randint(0, 2, toeplitz_size)\n",
    "# first_column = np.random.randint(0, 2, toeplitz_size)\n",
    "# toeplitz_matrix = pp.create_toeplitz(first_row, first_column)\n",
    "neumann_datasets = {}\n",
    "toeplitz_datasets = {}\n",
    "FFT_datasets = {}\n",
    "parity_datasets = {}\n",
    "# Use average across all datasets for throughput\n",
    "# Throughput is current just the time it takes\n",
    "timed_throughput = [0, 0, 0, 0]\n",
    "waste_ratios = [0, 0, 0, 0]\n",
    "\n",
    "for tag in dataset_tags:\n",
    "    # Manually apply each method\n",
    "    t0 = time.time()\n",
    "    neumann_datasets[tag] = pp.apply_von_neumann_extractor(datasets[tag])\n",
    "    t1 = time.time()\n",
    "    timed_throughput[0] += t1 - t0\n",
    "    waste_ratios[0] += waste_ratio(datasets[tag], neumann_datasets[tag])\n",
    "\n",
    "\n",
    "    t0 = time.time()\n",
    "    toeplitz_datasets[tag] = pp.apply_toeplitz_transformation(datasets[tag])\n",
    "    t1 = time.time()\n",
    "    timed_throughput[1] += t1 - t0\n",
    "    waste_ratios[1] += waste_ratio(datasets[tag], toeplitz_datasets[tag])\n",
    "\n",
    "    t0 = time.time()\n",
    "    FFT_datasets[tag] = pp.apply_fft_toeplitz(datasets[tag])\n",
    "    t1 = time.time()\n",
    "    timed_throughput[2] += t1 - t0\n",
    "    waste_ratios[2] += waste_ratio(datasets[tag], FFT_datasets[tag])\n",
    "\n",
    "    t0 = time.time()\n",
    "    parity_datasets[tag] = pp.apply_parity_extractor(datasets[tag])\n",
    "    t1 = time.time()\n",
    "    timed_throughput[3] += t1 - t0\n",
    "    waste_ratios[3] += waste_ratio(datasets[tag], parity_datasets[tag])\n",
    "\n",
    "for i in range(0,4):\n",
    "    timed_throughput[i] /= 4\n",
    "    waste_ratios[i] /= 4"
   ]
  },
  {
   "cell_type": "code",
   "execution_count": 6,
   "metadata": {},
   "outputs": [],
   "source": [
    "# Measure entropy of each applied transform\n",
    "# neumann_datasets = {}\n",
    "# toeplitz_datasets = {}\n",
    "# FFT_datasets = {}\n",
    "# parity_datasets = {}\n",
    "\n",
    "neumann_entropy = {}\n",
    "toeplitz_entropy = {}\n",
    "FFT_entropy = {}\n",
    "parity_entropy = {}\n",
    "\n",
    "for tag in dataset_tags:\n",
    "    neumann_entropy[tag] = pp.shannon_entropy(neumann_datasets[tag])\n",
    "    toeplitz_entropy[tag] = pp.shannon_entropy(toeplitz_datasets[tag])\n",
    "    FFT_entropy[tag] = pp.shannon_entropy(FFT_datasets[tag])\n",
    "    parity_entropy[tag] = pp.shannon_entropy(parity_datasets[tag])"
   ]
  },
  {
   "cell_type": "code",
   "execution_count": 8,
   "metadata": {},
   "outputs": [
    {
     "name": "stdout",
     "output_type": "stream",
     "text": [
      "Method\t\tP=0.9\t\tP=0.5\t\tSimulator\t\tWaste Ratio\t\tThroughput\t\t\n",
      "Control\t\t0.46846\t\t0.99999\t\t1.00000\t\t\t1.00000\t\t\tN/A\t\t\n",
      "\n",
      "Von Neumann\t0.99985\t\t0.99998\t\t1.00000\t\t\t0.14739\t\t\t0.00750\t\t\n",
      "\n",
      "Toeplitz\t0.99999\t\t1.00000\t\t1.00000\t\t\t0.74976\t\t\t0.01449\t\t\n",
      "\n",
      "FFT   \t\t1.00000\t\t1.00000\t\t0.99996\t\t\t0.74976\t\t\t0.01609\t\t\n",
      "\n",
      "Parity\t\t0.87134\t\t0.99988\t\t0.99997\t\t\t0.18750\t\t\t0.00367\t\t\n",
      "\n"
     ]
    }
   ],
   "source": [
    "# Display results\n",
    "print(\"Method\\t\\tP=0.9\\t\\tP=0.5\\t\\tSimulator\\t\\tWaste Ratio\\t\\tThroughput\\t\\t\")\n",
    "\n",
    "print(\"Control\\t\\t\", end=\"\")\n",
    "for tag in dataset_tags:\n",
    "    print(f\"{before_entropy[tag]:.5f}\\t\\t\", end=\"\")\n",
    "print(\"\\t1.00000\\t\\t\", end=\"\")\n",
    "print(\"\\tN/A\\t\\t\", end=\"\")\n",
    "# print(f\"{timed_throughput[0]}:.5f\\t\\t\")\n",
    "print('\\n')\n",
    "\n",
    "print(\"Von Neumann\\t\", end=\"\")\n",
    "for tag in dataset_tags:\n",
    "    print(f\"{neumann_entropy[tag]:.5f}\\t\\t\", end=\"\")\n",
    "print(f\"\\t{waste_ratios[0]:.5f}\\t\\t\", end=\"\")\n",
    "print(f\"\\t{timed_throughput[0]:.5f}\\t\\t\", end=\"\")\n",
    "print('\\n')\n",
    "\n",
    "print(\"Toeplitz\\t\", end=\"\")\n",
    "for tag in dataset_tags:\n",
    "    print(f\"{toeplitz_entropy[tag]:.5f}\\t\\t\", end=\"\")\n",
    "print(f\"\\t{waste_ratios[1]:.5f}\\t\\t\", end=\"\")\n",
    "print(f\"\\t{timed_throughput[1]:.5f}\\t\\t\", end=\"\")\n",
    "print('\\n')\n",
    "\n",
    "print(\"FFT   \\t\\t\", end=\"\")\n",
    "for tag in dataset_tags:\n",
    "    print(f\"{FFT_entropy[tag]:.5f}\\t\\t\", end=\"\")\n",
    "print(f\"\\t{waste_ratios[2]:.5f}\\t\\t\", end=\"\")\n",
    "print(f\"\\t{timed_throughput[2]:.5f}\\t\\t\", end=\"\")\n",
    "print('\\n')\n",
    "\n",
    "print(\"Parity\\t\\t\", end=\"\")\n",
    "for tag in dataset_tags:\n",
    "    print(f\"{parity_entropy[tag]:.5f}\\t\\t\", end=\"\")\n",
    "print(f\"\\t{waste_ratios[3]:.5f}\\t\\t\", end=\"\")\n",
    "print(f\"\\t{timed_throughput[3]:.5f}\\t\\t\", end=\"\")\n",
    "print('\\n')"
   ]
  }
 ],
 "metadata": {
  "kernelspec": {
   "display_name": "qc",
   "language": "python",
   "name": "python3"
  },
  "language_info": {
   "codemirror_mode": {
    "name": "ipython",
    "version": 3
   },
   "file_extension": ".py",
   "mimetype": "text/x-python",
   "name": "python",
   "nbconvert_exporter": "python",
   "pygments_lexer": "ipython3",
   "version": "3.12.7"
  }
 },
 "nbformat": 4,
 "nbformat_minor": 2
}
